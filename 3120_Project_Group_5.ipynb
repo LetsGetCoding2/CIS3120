{
 "cells": [
  {
   "cell_type": "markdown",
   "id": "9c934ac5",
   "metadata": {},
   "source": [
    "## Group 5"
   ]
  },
  {
   "cell_type": "markdown",
   "id": "40fabdd6",
   "metadata": {},
   "source": [
    "#### Marjahan Begum\n",
    "#### Salvatore Davi\n",
    "#### Gjon Dedvuka"
   ]
  },
  {
   "cell_type": "code",
   "execution_count": 1,
   "id": "2752b5a3",
   "metadata": {},
   "outputs": [],
   "source": [
    "import pandas as pd\n",
    "import numpy as np"
   ]
  },
  {
   "cell_type": "code",
   "execution_count": 2,
   "id": "5807eca1",
   "metadata": {},
   "outputs": [],
   "source": [
    "nvidia = pd.read_csv('NVDA.csv')"
   ]
  },
  {
   "cell_type": "code",
   "execution_count": 3,
   "id": "345dc236",
   "metadata": {},
   "outputs": [
    {
     "data": {
      "text/html": [
       "<div>\n",
       "<style scoped>\n",
       "    .dataframe tbody tr th:only-of-type {\n",
       "        vertical-align: middle;\n",
       "    }\n",
       "\n",
       "    .dataframe tbody tr th {\n",
       "        vertical-align: top;\n",
       "    }\n",
       "\n",
       "    .dataframe thead th {\n",
       "        text-align: right;\n",
       "    }\n",
       "</style>\n",
       "<table border=\"1\" class=\"dataframe\">\n",
       "  <thead>\n",
       "    <tr style=\"text-align: right;\">\n",
       "      <th></th>\n",
       "      <th>Date</th>\n",
       "      <th>Open</th>\n",
       "      <th>High</th>\n",
       "      <th>Low</th>\n",
       "      <th>Close</th>\n",
       "      <th>Adj Close</th>\n",
       "      <th>Volume</th>\n",
       "    </tr>\n",
       "  </thead>\n",
       "  <tbody>\n",
       "    <tr>\n",
       "      <th>0</th>\n",
       "      <td>2022-01-03</td>\n",
       "      <td>298.149994</td>\n",
       "      <td>307.109985</td>\n",
       "      <td>297.850006</td>\n",
       "      <td>301.209991</td>\n",
       "      <td>300.877502</td>\n",
       "      <td>39154700</td>\n",
       "    </tr>\n",
       "    <tr>\n",
       "      <th>1</th>\n",
       "      <td>2022-01-04</td>\n",
       "      <td>302.769989</td>\n",
       "      <td>304.679993</td>\n",
       "      <td>283.489990</td>\n",
       "      <td>292.899994</td>\n",
       "      <td>292.576660</td>\n",
       "      <td>52715400</td>\n",
       "    </tr>\n",
       "    <tr>\n",
       "      <th>2</th>\n",
       "      <td>2022-01-05</td>\n",
       "      <td>289.489990</td>\n",
       "      <td>294.160004</td>\n",
       "      <td>275.329987</td>\n",
       "      <td>276.040009</td>\n",
       "      <td>275.735291</td>\n",
       "      <td>49806400</td>\n",
       "    </tr>\n",
       "    <tr>\n",
       "      <th>3</th>\n",
       "      <td>2022-01-06</td>\n",
       "      <td>276.399994</td>\n",
       "      <td>284.380005</td>\n",
       "      <td>270.649994</td>\n",
       "      <td>281.779999</td>\n",
       "      <td>281.468933</td>\n",
       "      <td>45418600</td>\n",
       "    </tr>\n",
       "    <tr>\n",
       "      <th>4</th>\n",
       "      <td>2022-01-07</td>\n",
       "      <td>281.410004</td>\n",
       "      <td>284.220001</td>\n",
       "      <td>270.570007</td>\n",
       "      <td>272.470001</td>\n",
       "      <td>272.169250</td>\n",
       "      <td>40993900</td>\n",
       "    </tr>\n",
       "  </tbody>\n",
       "</table>\n",
       "</div>"
      ],
      "text/plain": [
       "         Date        Open        High         Low       Close   Adj Close  \\\n",
       "0  2022-01-03  298.149994  307.109985  297.850006  301.209991  300.877502   \n",
       "1  2022-01-04  302.769989  304.679993  283.489990  292.899994  292.576660   \n",
       "2  2022-01-05  289.489990  294.160004  275.329987  276.040009  275.735291   \n",
       "3  2022-01-06  276.399994  284.380005  270.649994  281.779999  281.468933   \n",
       "4  2022-01-07  281.410004  284.220001  270.570007  272.470001  272.169250   \n",
       "\n",
       "     Volume  \n",
       "0  39154700  \n",
       "1  52715400  \n",
       "2  49806400  \n",
       "3  45418600  \n",
       "4  40993900  "
      ]
     },
     "execution_count": 3,
     "metadata": {},
     "output_type": "execute_result"
    }
   ],
   "source": [
    "nvidia.head(5)"
   ]
  },
  {
   "cell_type": "code",
   "execution_count": 4,
   "id": "e6abc3c8",
   "metadata": {},
   "outputs": [
    {
     "data": {
      "text/plain": [
       "Date         251\n",
       "Open         251\n",
       "High         251\n",
       "Low          251\n",
       "Close        251\n",
       "Adj Close    251\n",
       "Volume       251\n",
       "dtype: int64"
      ]
     },
     "execution_count": 4,
     "metadata": {},
     "output_type": "execute_result"
    }
   ],
   "source": [
    "nvidia.count()"
   ]
  },
  {
   "cell_type": "code",
   "execution_count": 5,
   "id": "df6d3796",
   "metadata": {},
   "outputs": [],
   "source": [
    "tesla = pd.read_csv('TSLA-2.csv') "
   ]
  },
  {
   "cell_type": "code",
   "execution_count": 6,
   "id": "ee40c016",
   "metadata": {},
   "outputs": [
    {
     "data": {
      "text/html": [
       "<div>\n",
       "<style scoped>\n",
       "    .dataframe tbody tr th:only-of-type {\n",
       "        vertical-align: middle;\n",
       "    }\n",
       "\n",
       "    .dataframe tbody tr th {\n",
       "        vertical-align: top;\n",
       "    }\n",
       "\n",
       "    .dataframe thead th {\n",
       "        text-align: right;\n",
       "    }\n",
       "</style>\n",
       "<table border=\"1\" class=\"dataframe\">\n",
       "  <thead>\n",
       "    <tr style=\"text-align: right;\">\n",
       "      <th></th>\n",
       "      <th>Date</th>\n",
       "      <th>Open</th>\n",
       "      <th>High</th>\n",
       "      <th>Low</th>\n",
       "      <th>Close</th>\n",
       "      <th>Adj Close</th>\n",
       "      <th>Volume</th>\n",
       "    </tr>\n",
       "  </thead>\n",
       "  <tbody>\n",
       "    <tr>\n",
       "      <th>0</th>\n",
       "      <td>2022-01-03</td>\n",
       "      <td>382.583344</td>\n",
       "      <td>400.356659</td>\n",
       "      <td>378.679993</td>\n",
       "      <td>399.926666</td>\n",
       "      <td>399.926666</td>\n",
       "      <td>103931400</td>\n",
       "    </tr>\n",
       "    <tr>\n",
       "      <th>1</th>\n",
       "      <td>2022-01-04</td>\n",
       "      <td>396.516663</td>\n",
       "      <td>402.666656</td>\n",
       "      <td>374.350006</td>\n",
       "      <td>383.196655</td>\n",
       "      <td>383.196655</td>\n",
       "      <td>100248300</td>\n",
       "    </tr>\n",
       "    <tr>\n",
       "      <th>2</th>\n",
       "      <td>2022-01-05</td>\n",
       "      <td>382.216675</td>\n",
       "      <td>390.113342</td>\n",
       "      <td>360.336670</td>\n",
       "      <td>362.706665</td>\n",
       "      <td>362.706665</td>\n",
       "      <td>80119800</td>\n",
       "    </tr>\n",
       "    <tr>\n",
       "      <th>3</th>\n",
       "      <td>2022-01-06</td>\n",
       "      <td>359.000000</td>\n",
       "      <td>362.666656</td>\n",
       "      <td>340.166656</td>\n",
       "      <td>354.899994</td>\n",
       "      <td>354.899994</td>\n",
       "      <td>90336600</td>\n",
       "    </tr>\n",
       "    <tr>\n",
       "      <th>4</th>\n",
       "      <td>2022-01-07</td>\n",
       "      <td>360.123322</td>\n",
       "      <td>360.309998</td>\n",
       "      <td>336.666656</td>\n",
       "      <td>342.320007</td>\n",
       "      <td>342.320007</td>\n",
       "      <td>84164700</td>\n",
       "    </tr>\n",
       "  </tbody>\n",
       "</table>\n",
       "</div>"
      ],
      "text/plain": [
       "         Date        Open        High         Low       Close   Adj Close  \\\n",
       "0  2022-01-03  382.583344  400.356659  378.679993  399.926666  399.926666   \n",
       "1  2022-01-04  396.516663  402.666656  374.350006  383.196655  383.196655   \n",
       "2  2022-01-05  382.216675  390.113342  360.336670  362.706665  362.706665   \n",
       "3  2022-01-06  359.000000  362.666656  340.166656  354.899994  354.899994   \n",
       "4  2022-01-07  360.123322  360.309998  336.666656  342.320007  342.320007   \n",
       "\n",
       "      Volume  \n",
       "0  103931400  \n",
       "1  100248300  \n",
       "2   80119800  \n",
       "3   90336600  \n",
       "4   84164700  "
      ]
     },
     "execution_count": 6,
     "metadata": {},
     "output_type": "execute_result"
    }
   ],
   "source": [
    "tesla.head(5)"
   ]
  },
  {
   "cell_type": "code",
   "execution_count": 7,
   "id": "866c4a07",
   "metadata": {},
   "outputs": [
    {
     "data": {
      "text/plain": [
       "Date         251\n",
       "Open         251\n",
       "High         251\n",
       "Low          251\n",
       "Close        251\n",
       "Adj Close    251\n",
       "Volume       251\n",
       "dtype: int64"
      ]
     },
     "execution_count": 7,
     "metadata": {},
     "output_type": "execute_result"
    }
   ],
   "source": [
    "tesla.count()"
   ]
  },
  {
   "cell_type": "code",
   "execution_count": 8,
   "id": "362ad9b4",
   "metadata": {},
   "outputs": [],
   "source": [
    "jpmorgan = pd.read_csv('JPM.csv')"
   ]
  },
  {
   "cell_type": "code",
   "execution_count": 9,
   "id": "d407ddbe",
   "metadata": {},
   "outputs": [
    {
     "data": {
      "text/html": [
       "<div>\n",
       "<style scoped>\n",
       "    .dataframe tbody tr th:only-of-type {\n",
       "        vertical-align: middle;\n",
       "    }\n",
       "\n",
       "    .dataframe tbody tr th {\n",
       "        vertical-align: top;\n",
       "    }\n",
       "\n",
       "    .dataframe thead th {\n",
       "        text-align: right;\n",
       "    }\n",
       "</style>\n",
       "<table border=\"1\" class=\"dataframe\">\n",
       "  <thead>\n",
       "    <tr style=\"text-align: right;\">\n",
       "      <th></th>\n",
       "      <th>Date</th>\n",
       "      <th>Open</th>\n",
       "      <th>High</th>\n",
       "      <th>Low</th>\n",
       "      <th>Close</th>\n",
       "      <th>Adj Close</th>\n",
       "      <th>Volume</th>\n",
       "    </tr>\n",
       "  </thead>\n",
       "  <tbody>\n",
       "    <tr>\n",
       "      <th>0</th>\n",
       "      <td>2022-01-03</td>\n",
       "      <td>159.860001</td>\n",
       "      <td>162.639999</td>\n",
       "      <td>159.509995</td>\n",
       "      <td>161.699997</td>\n",
       "      <td>154.391342</td>\n",
       "      <td>13120900</td>\n",
       "    </tr>\n",
       "    <tr>\n",
       "      <th>1</th>\n",
       "      <td>2022-01-04</td>\n",
       "      <td>164.309998</td>\n",
       "      <td>168.580002</td>\n",
       "      <td>164.229996</td>\n",
       "      <td>167.830002</td>\n",
       "      <td>160.244308</td>\n",
       "      <td>20195800</td>\n",
       "    </tr>\n",
       "    <tr>\n",
       "      <th>2</th>\n",
       "      <td>2022-01-05</td>\n",
       "      <td>167.820007</td>\n",
       "      <td>168.360001</td>\n",
       "      <td>163.729996</td>\n",
       "      <td>163.779999</td>\n",
       "      <td>157.314682</td>\n",
       "      <td>17539400</td>\n",
       "    </tr>\n",
       "    <tr>\n",
       "      <th>3</th>\n",
       "      <td>2022-01-06</td>\n",
       "      <td>166.910004</td>\n",
       "      <td>167.369995</td>\n",
       "      <td>163.869995</td>\n",
       "      <td>165.520004</td>\n",
       "      <td>158.986023</td>\n",
       "      <td>14047500</td>\n",
       "    </tr>\n",
       "    <tr>\n",
       "      <th>4</th>\n",
       "      <td>2022-01-07</td>\n",
       "      <td>165.669998</td>\n",
       "      <td>167.529999</td>\n",
       "      <td>165.059998</td>\n",
       "      <td>167.160004</td>\n",
       "      <td>160.561264</td>\n",
       "      <td>13913300</td>\n",
       "    </tr>\n",
       "  </tbody>\n",
       "</table>\n",
       "</div>"
      ],
      "text/plain": [
       "         Date        Open        High         Low       Close   Adj Close  \\\n",
       "0  2022-01-03  159.860001  162.639999  159.509995  161.699997  154.391342   \n",
       "1  2022-01-04  164.309998  168.580002  164.229996  167.830002  160.244308   \n",
       "2  2022-01-05  167.820007  168.360001  163.729996  163.779999  157.314682   \n",
       "3  2022-01-06  166.910004  167.369995  163.869995  165.520004  158.986023   \n",
       "4  2022-01-07  165.669998  167.529999  165.059998  167.160004  160.561264   \n",
       "\n",
       "     Volume  \n",
       "0  13120900  \n",
       "1  20195800  \n",
       "2  17539400  \n",
       "3  14047500  \n",
       "4  13913300  "
      ]
     },
     "execution_count": 9,
     "metadata": {},
     "output_type": "execute_result"
    }
   ],
   "source": [
    "jpmorgan.head(5)"
   ]
  },
  {
   "cell_type": "code",
   "execution_count": 10,
   "id": "2506de29",
   "metadata": {},
   "outputs": [
    {
     "data": {
      "text/plain": [
       "Date         251\n",
       "Open         251\n",
       "High         251\n",
       "Low          251\n",
       "Close        251\n",
       "Adj Close    251\n",
       "Volume       251\n",
       "dtype: int64"
      ]
     },
     "execution_count": 10,
     "metadata": {},
     "output_type": "execute_result"
    }
   ],
   "source": [
    "jpmorgan.count()"
   ]
  },
  {
   "cell_type": "code",
   "execution_count": 11,
   "id": "8574cdee",
   "metadata": {},
   "outputs": [],
   "source": [
    "MMM = pd.read_csv('MMM.csv')"
   ]
  },
  {
   "cell_type": "code",
   "execution_count": 12,
   "id": "0a841c2c",
   "metadata": {},
   "outputs": [
    {
     "data": {
      "text/html": [
       "<div>\n",
       "<style scoped>\n",
       "    .dataframe tbody tr th:only-of-type {\n",
       "        vertical-align: middle;\n",
       "    }\n",
       "\n",
       "    .dataframe tbody tr th {\n",
       "        vertical-align: top;\n",
       "    }\n",
       "\n",
       "    .dataframe thead th {\n",
       "        text-align: right;\n",
       "    }\n",
       "</style>\n",
       "<table border=\"1\" class=\"dataframe\">\n",
       "  <thead>\n",
       "    <tr style=\"text-align: right;\">\n",
       "      <th></th>\n",
       "      <th>Date</th>\n",
       "      <th>Open</th>\n",
       "      <th>High</th>\n",
       "      <th>Low</th>\n",
       "      <th>Close</th>\n",
       "      <th>Adj Close</th>\n",
       "      <th>Volume</th>\n",
       "    </tr>\n",
       "  </thead>\n",
       "  <tbody>\n",
       "    <tr>\n",
       "      <th>0</th>\n",
       "      <td>2022-01-03</td>\n",
       "      <td>178.320007</td>\n",
       "      <td>179.089996</td>\n",
       "      <td>175.839996</td>\n",
       "      <td>177.740005</td>\n",
       "      <td>168.282104</td>\n",
       "      <td>1930700</td>\n",
       "    </tr>\n",
       "    <tr>\n",
       "      <th>1</th>\n",
       "      <td>2022-01-04</td>\n",
       "      <td>178.479996</td>\n",
       "      <td>181.259995</td>\n",
       "      <td>178.029999</td>\n",
       "      <td>180.229996</td>\n",
       "      <td>170.639603</td>\n",
       "      <td>2522200</td>\n",
       "    </tr>\n",
       "    <tr>\n",
       "      <th>2</th>\n",
       "      <td>2022-01-05</td>\n",
       "      <td>177.130005</td>\n",
       "      <td>181.779999</td>\n",
       "      <td>177.000000</td>\n",
       "      <td>179.490005</td>\n",
       "      <td>169.938995</td>\n",
       "      <td>2952400</td>\n",
       "    </tr>\n",
       "    <tr>\n",
       "      <th>3</th>\n",
       "      <td>2022-01-06</td>\n",
       "      <td>180.880005</td>\n",
       "      <td>181.279999</td>\n",
       "      <td>177.539993</td>\n",
       "      <td>178.000000</td>\n",
       "      <td>168.528275</td>\n",
       "      <td>2505400</td>\n",
       "    </tr>\n",
       "    <tr>\n",
       "      <th>4</th>\n",
       "      <td>2022-01-07</td>\n",
       "      <td>178.130005</td>\n",
       "      <td>180.490005</td>\n",
       "      <td>177.220001</td>\n",
       "      <td>179.949997</td>\n",
       "      <td>170.374496</td>\n",
       "      <td>2800200</td>\n",
       "    </tr>\n",
       "  </tbody>\n",
       "</table>\n",
       "</div>"
      ],
      "text/plain": [
       "         Date        Open        High         Low       Close   Adj Close  \\\n",
       "0  2022-01-03  178.320007  179.089996  175.839996  177.740005  168.282104   \n",
       "1  2022-01-04  178.479996  181.259995  178.029999  180.229996  170.639603   \n",
       "2  2022-01-05  177.130005  181.779999  177.000000  179.490005  169.938995   \n",
       "3  2022-01-06  180.880005  181.279999  177.539993  178.000000  168.528275   \n",
       "4  2022-01-07  178.130005  180.490005  177.220001  179.949997  170.374496   \n",
       "\n",
       "    Volume  \n",
       "0  1930700  \n",
       "1  2522200  \n",
       "2  2952400  \n",
       "3  2505400  \n",
       "4  2800200  "
      ]
     },
     "execution_count": 12,
     "metadata": {},
     "output_type": "execute_result"
    }
   ],
   "source": [
    "MMM.head(5)"
   ]
  },
  {
   "cell_type": "code",
   "execution_count": 13,
   "id": "5d18dd1e",
   "metadata": {},
   "outputs": [
    {
     "data": {
      "text/plain": [
       "Date         251\n",
       "Open         251\n",
       "High         251\n",
       "Low          251\n",
       "Close        251\n",
       "Adj Close    251\n",
       "Volume       251\n",
       "dtype: int64"
      ]
     },
     "execution_count": 13,
     "metadata": {},
     "output_type": "execute_result"
    }
   ],
   "source": [
    "MMM.count()"
   ]
  },
  {
   "cell_type": "code",
   "execution_count": 14,
   "id": "dc02467c",
   "metadata": {},
   "outputs": [],
   "source": [
    "KO = pd.read_csv('KO.csv')"
   ]
  },
  {
   "cell_type": "code",
   "execution_count": 15,
   "id": "89548486",
   "metadata": {},
   "outputs": [
    {
     "data": {
      "text/html": [
       "<div>\n",
       "<style scoped>\n",
       "    .dataframe tbody tr th:only-of-type {\n",
       "        vertical-align: middle;\n",
       "    }\n",
       "\n",
       "    .dataframe tbody tr th {\n",
       "        vertical-align: top;\n",
       "    }\n",
       "\n",
       "    .dataframe thead th {\n",
       "        text-align: right;\n",
       "    }\n",
       "</style>\n",
       "<table border=\"1\" class=\"dataframe\">\n",
       "  <thead>\n",
       "    <tr style=\"text-align: right;\">\n",
       "      <th></th>\n",
       "      <th>Date</th>\n",
       "      <th>Open</th>\n",
       "      <th>High</th>\n",
       "      <th>Low</th>\n",
       "      <th>Close</th>\n",
       "      <th>Adj Close</th>\n",
       "      <th>Volume</th>\n",
       "    </tr>\n",
       "  </thead>\n",
       "  <tbody>\n",
       "    <tr>\n",
       "      <th>0</th>\n",
       "      <td>2022-01-03</td>\n",
       "      <td>58.820000</td>\n",
       "      <td>59.310001</td>\n",
       "      <td>58.380001</td>\n",
       "      <td>59.299999</td>\n",
       "      <td>57.157574</td>\n",
       "      <td>20187300</td>\n",
       "    </tr>\n",
       "    <tr>\n",
       "      <th>1</th>\n",
       "      <td>2022-01-04</td>\n",
       "      <td>59.730000</td>\n",
       "      <td>60.540001</td>\n",
       "      <td>59.590000</td>\n",
       "      <td>60.290001</td>\n",
       "      <td>58.111809</td>\n",
       "      <td>26141600</td>\n",
       "    </tr>\n",
       "    <tr>\n",
       "      <th>2</th>\n",
       "      <td>2022-01-05</td>\n",
       "      <td>60.090000</td>\n",
       "      <td>61.200001</td>\n",
       "      <td>60.049999</td>\n",
       "      <td>60.790001</td>\n",
       "      <td>58.593746</td>\n",
       "      <td>22507300</td>\n",
       "    </tr>\n",
       "    <tr>\n",
       "      <th>3</th>\n",
       "      <td>2022-01-06</td>\n",
       "      <td>60.470001</td>\n",
       "      <td>61.119999</td>\n",
       "      <td>60.439999</td>\n",
       "      <td>60.470001</td>\n",
       "      <td>58.285309</td>\n",
       "      <td>17902300</td>\n",
       "    </tr>\n",
       "    <tr>\n",
       "      <th>4</th>\n",
       "      <td>2022-01-07</td>\n",
       "      <td>60.279999</td>\n",
       "      <td>60.720001</td>\n",
       "      <td>60.060001</td>\n",
       "      <td>60.330002</td>\n",
       "      <td>58.150364</td>\n",
       "      <td>12307900</td>\n",
       "    </tr>\n",
       "  </tbody>\n",
       "</table>\n",
       "</div>"
      ],
      "text/plain": [
       "         Date       Open       High        Low      Close  Adj Close    Volume\n",
       "0  2022-01-03  58.820000  59.310001  58.380001  59.299999  57.157574  20187300\n",
       "1  2022-01-04  59.730000  60.540001  59.590000  60.290001  58.111809  26141600\n",
       "2  2022-01-05  60.090000  61.200001  60.049999  60.790001  58.593746  22507300\n",
       "3  2022-01-06  60.470001  61.119999  60.439999  60.470001  58.285309  17902300\n",
       "4  2022-01-07  60.279999  60.720001  60.060001  60.330002  58.150364  12307900"
      ]
     },
     "execution_count": 15,
     "metadata": {},
     "output_type": "execute_result"
    }
   ],
   "source": [
    "KO.head(5)"
   ]
  },
  {
   "cell_type": "code",
   "execution_count": 16,
   "id": "dfee7a38",
   "metadata": {
    "scrolled": true
   },
   "outputs": [
    {
     "data": {
      "text/plain": [
       "Date         251\n",
       "Open         251\n",
       "High         251\n",
       "Low          251\n",
       "Close        251\n",
       "Adj Close    251\n",
       "Volume       251\n",
       "dtype: int64"
      ]
     },
     "execution_count": 16,
     "metadata": {},
     "output_type": "execute_result"
    }
   ],
   "source": [
    "KO.count()"
   ]
  },
  {
   "cell_type": "code",
   "execution_count": 17,
   "id": "2b439fcc",
   "metadata": {},
   "outputs": [],
   "source": [
    "sp500 = pd.read_csv('SP500.csv')"
   ]
  },
  {
   "cell_type": "code",
   "execution_count": 39,
   "id": "30b12401",
   "metadata": {},
   "outputs": [
    {
     "data": {
      "text/html": [
       "<div>\n",
       "<style scoped>\n",
       "    .dataframe tbody tr th:only-of-type {\n",
       "        vertical-align: middle;\n",
       "    }\n",
       "\n",
       "    .dataframe tbody tr th {\n",
       "        vertical-align: top;\n",
       "    }\n",
       "\n",
       "    .dataframe thead th {\n",
       "        text-align: right;\n",
       "    }\n",
       "</style>\n",
       "<table border=\"1\" class=\"dataframe\">\n",
       "  <thead>\n",
       "    <tr style=\"text-align: right;\">\n",
       "      <th></th>\n",
       "      <th>Date</th>\n",
       "      <th>Open</th>\n",
       "      <th>High</th>\n",
       "      <th>Low</th>\n",
       "      <th>Close*</th>\n",
       "      <th>Adj Close**</th>\n",
       "      <th>Volume</th>\n",
       "    </tr>\n",
       "  </thead>\n",
       "  <tbody>\n",
       "    <tr>\n",
       "      <th>0</th>\n",
       "      <td>30-Dec-22</td>\n",
       "      <td>3,829.06</td>\n",
       "      <td>3,839.85</td>\n",
       "      <td>3,800.34</td>\n",
       "      <td>3,839.50</td>\n",
       "      <td>3,839.50</td>\n",
       "      <td>2,979,870,000</td>\n",
       "    </tr>\n",
       "    <tr>\n",
       "      <th>1</th>\n",
       "      <td>29-Dec-22</td>\n",
       "      <td>3,805.45</td>\n",
       "      <td>3,858.19</td>\n",
       "      <td>3,805.45</td>\n",
       "      <td>3,849.28</td>\n",
       "      <td>3,849.28</td>\n",
       "      <td>3,003,680,000</td>\n",
       "    </tr>\n",
       "    <tr>\n",
       "      <th>2</th>\n",
       "      <td>28-Dec-22</td>\n",
       "      <td>3,829.56</td>\n",
       "      <td>3,848.32</td>\n",
       "      <td>3,780.78</td>\n",
       "      <td>3,783.22</td>\n",
       "      <td>3,783.22</td>\n",
       "      <td>3,083,520,000</td>\n",
       "    </tr>\n",
       "    <tr>\n",
       "      <th>3</th>\n",
       "      <td>27-Dec-22</td>\n",
       "      <td>3,843.34</td>\n",
       "      <td>3,846.65</td>\n",
       "      <td>3,813.22</td>\n",
       "      <td>3,829.25</td>\n",
       "      <td>3,829.25</td>\n",
       "      <td>3,030,300,000</td>\n",
       "    </tr>\n",
       "    <tr>\n",
       "      <th>4</th>\n",
       "      <td>23-Dec-22</td>\n",
       "      <td>3,815.11</td>\n",
       "      <td>3,845.80</td>\n",
       "      <td>3,797.01</td>\n",
       "      <td>3,844.82</td>\n",
       "      <td>3,844.82</td>\n",
       "      <td>2,819,280,000</td>\n",
       "    </tr>\n",
       "  </tbody>\n",
       "</table>\n",
       "</div>"
      ],
      "text/plain": [
       "        Date      Open      High       Low    Close* Adj Close**  \\\n",
       "0  30-Dec-22  3,829.06  3,839.85  3,800.34  3,839.50    3,839.50   \n",
       "1  29-Dec-22  3,805.45  3,858.19  3,805.45  3,849.28    3,849.28   \n",
       "2  28-Dec-22  3,829.56  3,848.32  3,780.78  3,783.22    3,783.22   \n",
       "3  27-Dec-22  3,843.34  3,846.65  3,813.22  3,829.25    3,829.25   \n",
       "4  23-Dec-22  3,815.11  3,845.80  3,797.01  3,844.82    3,844.82   \n",
       "\n",
       "          Volume  \n",
       "0  2,979,870,000  \n",
       "1  3,003,680,000  \n",
       "2  3,083,520,000  \n",
       "3  3,030,300,000  \n",
       "4  2,819,280,000  "
      ]
     },
     "execution_count": 39,
     "metadata": {},
     "output_type": "execute_result"
    }
   ],
   "source": [
    "sp500.head()"
   ]
  },
  {
   "cell_type": "code",
   "execution_count": 40,
   "id": "03b08375",
   "metadata": {},
   "outputs": [
    {
     "data": {
      "text/plain": [
       "Date           251\n",
       "Open           251\n",
       "High           251\n",
       "Low            251\n",
       "Close*         251\n",
       "Adj Close**    251\n",
       "Volume         251\n",
       "dtype: int64"
      ]
     },
     "execution_count": 40,
     "metadata": {},
     "output_type": "execute_result"
    }
   ],
   "source": [
    "sp500.count()"
   ]
  },
  {
   "cell_type": "code",
   "execution_count": 37,
   "id": "8189e055",
   "metadata": {},
   "outputs": [],
   "source": [
    "nvidia['Daily % Change'] = round(nvidia['Adj Close'].pct_change() * 100, 2)"
   ]
  },
  {
   "cell_type": "code",
   "execution_count": 38,
   "id": "79f9cd35",
   "metadata": {},
   "outputs": [
    {
     "name": "stdout",
     "output_type": "stream",
     "text": [
      "Nvidia:\n",
      "          Date        Open        High         Low       Close   Adj Close  \\\n",
      "0   2022-01-03  298.149994  307.109985  297.850006  301.209991  300.877502   \n",
      "1   2022-01-04  302.769989  304.679993  283.489990  292.899994  292.576660   \n",
      "2   2022-01-05  289.489990  294.160004  275.329987  276.040009  275.735291   \n",
      "3   2022-01-06  276.399994  284.380005  270.649994  281.779999  281.468933   \n",
      "4   2022-01-07  281.410004  284.220001  270.570007  272.470001  272.169250   \n",
      "5   2022-01-10  265.809998  274.690002  256.440002  274.000000  273.697540   \n",
      "6   2022-01-11  273.230011  280.649994  268.390015  278.170013  277.862915   \n",
      "7   2022-01-12  280.670013  285.950012  276.079987  279.989990  279.680908   \n",
      "8   2022-01-13  283.790009  284.799988  264.980011  265.750000  265.456635   \n",
      "9   2022-01-14  263.000000  271.970001  262.100006  269.420013  269.122620   \n",
      "10  2022-01-18  262.600006  266.380005  257.700012  259.029999  258.744080   \n",
      "11  2022-01-19  260.790009  265.429993  250.520004  250.669998  250.393311   \n",
      "12  2022-01-20  253.039993  255.789993  240.779999  241.500000  241.233414   \n",
      "13  2022-01-21  235.070007  248.229996  232.630005  233.740005  233.481964   \n",
      "14  2022-01-24  223.300003  233.800003  208.880005  233.720001  233.462021   \n",
      "15  2022-01-25  225.460007  229.429993  220.000000  223.240005  222.993591   \n",
      "16  2022-01-26  232.399994  240.570007  223.000000  227.720001  227.468643   \n",
      "17  2022-01-27  235.679993  239.949997  216.750000  219.440002  219.197769   \n",
      "18  2022-01-28  220.119995  228.580002  212.960007  228.399994  228.147873   \n",
      "19  2022-01-31  231.820007  245.089996  230.520004  244.860001  244.589691   \n",
      "\n",
      "      Volume  Daily_Return  Daily % Change  \n",
      "0   39154700           NaN             NaN  \n",
      "1   52715400         -2.76           -2.76  \n",
      "2   49806400         -5.76           -5.76  \n",
      "3   45418600          2.08            2.08  \n",
      "4   40993900         -3.30           -3.30  \n",
      "5   59468100          0.56            0.56  \n",
      "6   40408900          1.52            1.52  \n",
      "7   38341300          0.65            0.65  \n",
      "8   54017100         -5.09           -5.09  \n",
      "9   39583200          1.38            1.38  \n",
      "10  42427000         -3.86           -3.86  \n",
      "11  48831500         -3.23           -3.23  \n",
      "12  43518100         -3.66           -3.66  \n",
      "13  71895800         -3.21           -3.21  \n",
      "14  91398200         -0.01           -0.01  \n",
      "15  66461600         -4.48           -4.48  \n",
      "16  75595900          2.01            2.01  \n",
      "17  57335300         -3.64           -3.64  \n",
      "18  54377400          4.08            4.08  \n",
      "19  56468000          7.21            7.21  \n"
     ]
    }
   ],
   "source": [
    "print(\"Nvidia:\")\n",
    "print(nvidia.head(20))"
   ]
  },
  {
   "cell_type": "code",
   "execution_count": 34,
   "id": "888a0159",
   "metadata": {},
   "outputs": [
    {
     "name": "stdout",
     "output_type": "stream",
     "text": [
      "Total count: Date              251\n",
      "Open              251\n",
      "High              251\n",
      "Low               251\n",
      "Close             251\n",
      "Adj Close         251\n",
      "Volume            251\n",
      "Daily_Return      250\n",
      "Daily % Change    250\n",
      "dtype: int64\n",
      "\n"
     ]
    }
   ],
   "source": [
    "print(\"Total count:\", nvidia.count())\n",
    "print()"
   ]
  },
  {
   "cell_type": "code",
   "execution_count": null,
   "id": "0a9adfe3",
   "metadata": {},
   "outputs": [],
   "source": []
  }
 ],
 "metadata": {
  "kernelspec": {
   "display_name": "Python 3 (ipykernel)",
   "language": "python",
   "name": "python3"
  },
  "language_info": {
   "codemirror_mode": {
    "name": "ipython",
    "version": 3
   },
   "file_extension": ".py",
   "mimetype": "text/x-python",
   "name": "python",
   "nbconvert_exporter": "python",
   "pygments_lexer": "ipython3",
   "version": "3.9.13"
  }
 },
 "nbformat": 4,
 "nbformat_minor": 5
}
