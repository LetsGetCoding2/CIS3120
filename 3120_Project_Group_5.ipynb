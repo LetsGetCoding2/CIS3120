{
 "cells": [
  {
   "cell_type": "markdown",
   "id": "9c934ac5",
   "metadata": {},
   "source": [
    "## Group 5"
   ]
  },
  {
   "cell_type": "markdown",
   "id": "40fabdd6",
   "metadata": {},
   "source": [
    "#### Marjahan Begum\n",
    "#### Salvatore Davi\n",
    "#### Gjon Dedvuka"
   ]
  },
  {
   "cell_type": "markdown",
   "id": "de446531",
   "metadata": {},
   "source": [
    "# Part 1 - Collecting Data"
   ]
  },
  {
   "cell_type": "code",
   "execution_count": 1,
   "id": "b7740e07",
   "metadata": {},
   "outputs": [],
   "source": [
    "import pandas as pd\n",
    "import numpy as np\n",
    "import matplotlib.pyplot as plt"
   ]
  },
  {
   "cell_type": "code",
   "execution_count": 2,
   "id": "5807eca1",
   "metadata": {},
   "outputs": [],
   "source": [
    "nvidia = pd.read_csv('NVDA.csv')"
   ]
  },
  {
   "cell_type": "code",
   "execution_count": 3,
   "id": "345dc236",
   "metadata": {},
   "outputs": [
    {
     "data": {
      "text/html": [
       "<div>\n",
       "<style scoped>\n",
       "    .dataframe tbody tr th:only-of-type {\n",
       "        vertical-align: middle;\n",
       "    }\n",
       "\n",
       "    .dataframe tbody tr th {\n",
       "        vertical-align: top;\n",
       "    }\n",
       "\n",
       "    .dataframe thead th {\n",
       "        text-align: right;\n",
       "    }\n",
       "</style>\n",
       "<table border=\"1\" class=\"dataframe\">\n",
       "  <thead>\n",
       "    <tr style=\"text-align: right;\">\n",
       "      <th></th>\n",
       "      <th>Date</th>\n",
       "      <th>Open</th>\n",
       "      <th>High</th>\n",
       "      <th>Low</th>\n",
       "      <th>Close</th>\n",
       "      <th>Adj Close</th>\n",
       "      <th>Volume</th>\n",
       "    </tr>\n",
       "  </thead>\n",
       "  <tbody>\n",
       "    <tr>\n",
       "      <th>0</th>\n",
       "      <td>2022-01-03</td>\n",
       "      <td>298.149994</td>\n",
       "      <td>307.109985</td>\n",
       "      <td>297.850006</td>\n",
       "      <td>301.209991</td>\n",
       "      <td>300.877502</td>\n",
       "      <td>39154700</td>\n",
       "    </tr>\n",
       "    <tr>\n",
       "      <th>1</th>\n",
       "      <td>2022-01-04</td>\n",
       "      <td>302.769989</td>\n",
       "      <td>304.679993</td>\n",
       "      <td>283.489990</td>\n",
       "      <td>292.899994</td>\n",
       "      <td>292.576660</td>\n",
       "      <td>52715400</td>\n",
       "    </tr>\n",
       "    <tr>\n",
       "      <th>2</th>\n",
       "      <td>2022-01-05</td>\n",
       "      <td>289.489990</td>\n",
       "      <td>294.160004</td>\n",
       "      <td>275.329987</td>\n",
       "      <td>276.040009</td>\n",
       "      <td>275.735291</td>\n",
       "      <td>49806400</td>\n",
       "    </tr>\n",
       "    <tr>\n",
       "      <th>3</th>\n",
       "      <td>2022-01-06</td>\n",
       "      <td>276.399994</td>\n",
       "      <td>284.380005</td>\n",
       "      <td>270.649994</td>\n",
       "      <td>281.779999</td>\n",
       "      <td>281.468933</td>\n",
       "      <td>45418600</td>\n",
       "    </tr>\n",
       "    <tr>\n",
       "      <th>4</th>\n",
       "      <td>2022-01-07</td>\n",
       "      <td>281.410004</td>\n",
       "      <td>284.220001</td>\n",
       "      <td>270.570007</td>\n",
       "      <td>272.470001</td>\n",
       "      <td>272.169250</td>\n",
       "      <td>40993900</td>\n",
       "    </tr>\n",
       "  </tbody>\n",
       "</table>\n",
       "</div>"
      ],
      "text/plain": [
       "         Date        Open        High         Low       Close   Adj Close  \\\n",
       "0  2022-01-03  298.149994  307.109985  297.850006  301.209991  300.877502   \n",
       "1  2022-01-04  302.769989  304.679993  283.489990  292.899994  292.576660   \n",
       "2  2022-01-05  289.489990  294.160004  275.329987  276.040009  275.735291   \n",
       "3  2022-01-06  276.399994  284.380005  270.649994  281.779999  281.468933   \n",
       "4  2022-01-07  281.410004  284.220001  270.570007  272.470001  272.169250   \n",
       "\n",
       "     Volume  \n",
       "0  39154700  \n",
       "1  52715400  \n",
       "2  49806400  \n",
       "3  45418600  \n",
       "4  40993900  "
      ]
     },
     "execution_count": 3,
     "metadata": {},
     "output_type": "execute_result"
    }
   ],
   "source": [
    "nvidia.head(5)"
   ]
  },
  {
   "cell_type": "code",
   "execution_count": 4,
   "id": "e6abc3c8",
   "metadata": {},
   "outputs": [
    {
     "data": {
      "text/plain": [
       "Date         251\n",
       "Open         251\n",
       "High         251\n",
       "Low          251\n",
       "Close        251\n",
       "Adj Close    251\n",
       "Volume       251\n",
       "dtype: int64"
      ]
     },
     "execution_count": 4,
     "metadata": {},
     "output_type": "execute_result"
    }
   ],
   "source": [
    "nvidia.count()"
   ]
  },
  {
   "cell_type": "code",
   "execution_count": 5,
   "id": "df6d3796",
   "metadata": {},
   "outputs": [],
   "source": [
    "tesla = pd.read_csv('TSLA-2.csv') "
   ]
  },
  {
   "cell_type": "code",
   "execution_count": 6,
   "id": "ee40c016",
   "metadata": {
    "scrolled": true
   },
   "outputs": [
    {
     "data": {
      "text/html": [
       "<div>\n",
       "<style scoped>\n",
       "    .dataframe tbody tr th:only-of-type {\n",
       "        vertical-align: middle;\n",
       "    }\n",
       "\n",
       "    .dataframe tbody tr th {\n",
       "        vertical-align: top;\n",
       "    }\n",
       "\n",
       "    .dataframe thead th {\n",
       "        text-align: right;\n",
       "    }\n",
       "</style>\n",
       "<table border=\"1\" class=\"dataframe\">\n",
       "  <thead>\n",
       "    <tr style=\"text-align: right;\">\n",
       "      <th></th>\n",
       "      <th>Date</th>\n",
       "      <th>Open</th>\n",
       "      <th>High</th>\n",
       "      <th>Low</th>\n",
       "      <th>Close</th>\n",
       "      <th>Adj Close</th>\n",
       "      <th>Volume</th>\n",
       "    </tr>\n",
       "  </thead>\n",
       "  <tbody>\n",
       "    <tr>\n",
       "      <th>0</th>\n",
       "      <td>2022-01-03</td>\n",
       "      <td>382.583344</td>\n",
       "      <td>400.356659</td>\n",
       "      <td>378.679993</td>\n",
       "      <td>399.926666</td>\n",
       "      <td>399.926666</td>\n",
       "      <td>103931400</td>\n",
       "    </tr>\n",
       "    <tr>\n",
       "      <th>1</th>\n",
       "      <td>2022-01-04</td>\n",
       "      <td>396.516663</td>\n",
       "      <td>402.666656</td>\n",
       "      <td>374.350006</td>\n",
       "      <td>383.196655</td>\n",
       "      <td>383.196655</td>\n",
       "      <td>100248300</td>\n",
       "    </tr>\n",
       "    <tr>\n",
       "      <th>2</th>\n",
       "      <td>2022-01-05</td>\n",
       "      <td>382.216675</td>\n",
       "      <td>390.113342</td>\n",
       "      <td>360.336670</td>\n",
       "      <td>362.706665</td>\n",
       "      <td>362.706665</td>\n",
       "      <td>80119800</td>\n",
       "    </tr>\n",
       "    <tr>\n",
       "      <th>3</th>\n",
       "      <td>2022-01-06</td>\n",
       "      <td>359.000000</td>\n",
       "      <td>362.666656</td>\n",
       "      <td>340.166656</td>\n",
       "      <td>354.899994</td>\n",
       "      <td>354.899994</td>\n",
       "      <td>90336600</td>\n",
       "    </tr>\n",
       "    <tr>\n",
       "      <th>4</th>\n",
       "      <td>2022-01-07</td>\n",
       "      <td>360.123322</td>\n",
       "      <td>360.309998</td>\n",
       "      <td>336.666656</td>\n",
       "      <td>342.320007</td>\n",
       "      <td>342.320007</td>\n",
       "      <td>84164700</td>\n",
       "    </tr>\n",
       "  </tbody>\n",
       "</table>\n",
       "</div>"
      ],
      "text/plain": [
       "         Date        Open        High         Low       Close   Adj Close  \\\n",
       "0  2022-01-03  382.583344  400.356659  378.679993  399.926666  399.926666   \n",
       "1  2022-01-04  396.516663  402.666656  374.350006  383.196655  383.196655   \n",
       "2  2022-01-05  382.216675  390.113342  360.336670  362.706665  362.706665   \n",
       "3  2022-01-06  359.000000  362.666656  340.166656  354.899994  354.899994   \n",
       "4  2022-01-07  360.123322  360.309998  336.666656  342.320007  342.320007   \n",
       "\n",
       "      Volume  \n",
       "0  103931400  \n",
       "1  100248300  \n",
       "2   80119800  \n",
       "3   90336600  \n",
       "4   84164700  "
      ]
     },
     "execution_count": 6,
     "metadata": {},
     "output_type": "execute_result"
    }
   ],
   "source": [
    "tesla.head(5)"
   ]
  },
  {
   "cell_type": "code",
   "execution_count": 7,
   "id": "866c4a07",
   "metadata": {},
   "outputs": [
    {
     "data": {
      "text/plain": [
       "Date         251\n",
       "Open         251\n",
       "High         251\n",
       "Low          251\n",
       "Close        251\n",
       "Adj Close    251\n",
       "Volume       251\n",
       "dtype: int64"
      ]
     },
     "execution_count": 7,
     "metadata": {},
     "output_type": "execute_result"
    }
   ],
   "source": [
    "tesla.count()"
   ]
  },
  {
   "cell_type": "code",
   "execution_count": 8,
   "id": "362ad9b4",
   "metadata": {},
   "outputs": [],
   "source": [
    "jpmorgan = pd.read_csv('JPM.csv')"
   ]
  },
  {
   "cell_type": "code",
   "execution_count": 9,
   "id": "d407ddbe",
   "metadata": {},
   "outputs": [
    {
     "data": {
      "text/html": [
       "<div>\n",
       "<style scoped>\n",
       "    .dataframe tbody tr th:only-of-type {\n",
       "        vertical-align: middle;\n",
       "    }\n",
       "\n",
       "    .dataframe tbody tr th {\n",
       "        vertical-align: top;\n",
       "    }\n",
       "\n",
       "    .dataframe thead th {\n",
       "        text-align: right;\n",
       "    }\n",
       "</style>\n",
       "<table border=\"1\" class=\"dataframe\">\n",
       "  <thead>\n",
       "    <tr style=\"text-align: right;\">\n",
       "      <th></th>\n",
       "      <th>Date</th>\n",
       "      <th>Open</th>\n",
       "      <th>High</th>\n",
       "      <th>Low</th>\n",
       "      <th>Close</th>\n",
       "      <th>Adj Close</th>\n",
       "      <th>Volume</th>\n",
       "    </tr>\n",
       "  </thead>\n",
       "  <tbody>\n",
       "    <tr>\n",
       "      <th>0</th>\n",
       "      <td>2022-01-03</td>\n",
       "      <td>159.860001</td>\n",
       "      <td>162.639999</td>\n",
       "      <td>159.509995</td>\n",
       "      <td>161.699997</td>\n",
       "      <td>154.391342</td>\n",
       "      <td>13120900</td>\n",
       "    </tr>\n",
       "    <tr>\n",
       "      <th>1</th>\n",
       "      <td>2022-01-04</td>\n",
       "      <td>164.309998</td>\n",
       "      <td>168.580002</td>\n",
       "      <td>164.229996</td>\n",
       "      <td>167.830002</td>\n",
       "      <td>160.244308</td>\n",
       "      <td>20195800</td>\n",
       "    </tr>\n",
       "    <tr>\n",
       "      <th>2</th>\n",
       "      <td>2022-01-05</td>\n",
       "      <td>167.820007</td>\n",
       "      <td>168.360001</td>\n",
       "      <td>163.729996</td>\n",
       "      <td>163.779999</td>\n",
       "      <td>157.314682</td>\n",
       "      <td>17539400</td>\n",
       "    </tr>\n",
       "    <tr>\n",
       "      <th>3</th>\n",
       "      <td>2022-01-06</td>\n",
       "      <td>166.910004</td>\n",
       "      <td>167.369995</td>\n",
       "      <td>163.869995</td>\n",
       "      <td>165.520004</td>\n",
       "      <td>158.986023</td>\n",
       "      <td>14047500</td>\n",
       "    </tr>\n",
       "    <tr>\n",
       "      <th>4</th>\n",
       "      <td>2022-01-07</td>\n",
       "      <td>165.669998</td>\n",
       "      <td>167.529999</td>\n",
       "      <td>165.059998</td>\n",
       "      <td>167.160004</td>\n",
       "      <td>160.561264</td>\n",
       "      <td>13913300</td>\n",
       "    </tr>\n",
       "  </tbody>\n",
       "</table>\n",
       "</div>"
      ],
      "text/plain": [
       "         Date        Open        High         Low       Close   Adj Close  \\\n",
       "0  2022-01-03  159.860001  162.639999  159.509995  161.699997  154.391342   \n",
       "1  2022-01-04  164.309998  168.580002  164.229996  167.830002  160.244308   \n",
       "2  2022-01-05  167.820007  168.360001  163.729996  163.779999  157.314682   \n",
       "3  2022-01-06  166.910004  167.369995  163.869995  165.520004  158.986023   \n",
       "4  2022-01-07  165.669998  167.529999  165.059998  167.160004  160.561264   \n",
       "\n",
       "     Volume  \n",
       "0  13120900  \n",
       "1  20195800  \n",
       "2  17539400  \n",
       "3  14047500  \n",
       "4  13913300  "
      ]
     },
     "execution_count": 9,
     "metadata": {},
     "output_type": "execute_result"
    }
   ],
   "source": [
    "jpmorgan.head(5)"
   ]
  },
  {
   "cell_type": "code",
   "execution_count": 10,
   "id": "2506de29",
   "metadata": {},
   "outputs": [
    {
     "data": {
      "text/plain": [
       "Date         251\n",
       "Open         251\n",
       "High         251\n",
       "Low          251\n",
       "Close        251\n",
       "Adj Close    251\n",
       "Volume       251\n",
       "dtype: int64"
      ]
     },
     "execution_count": 10,
     "metadata": {},
     "output_type": "execute_result"
    }
   ],
   "source": [
    "jpmorgan.count()"
   ]
  },
  {
   "cell_type": "code",
   "execution_count": 11,
   "id": "8574cdee",
   "metadata": {},
   "outputs": [],
   "source": [
    "MMM = pd.read_csv('MMM.csv')"
   ]
  },
  {
   "cell_type": "code",
   "execution_count": 12,
   "id": "0a841c2c",
   "metadata": {},
   "outputs": [
    {
     "data": {
      "text/html": [
       "<div>\n",
       "<style scoped>\n",
       "    .dataframe tbody tr th:only-of-type {\n",
       "        vertical-align: middle;\n",
       "    }\n",
       "\n",
       "    .dataframe tbody tr th {\n",
       "        vertical-align: top;\n",
       "    }\n",
       "\n",
       "    .dataframe thead th {\n",
       "        text-align: right;\n",
       "    }\n",
       "</style>\n",
       "<table border=\"1\" class=\"dataframe\">\n",
       "  <thead>\n",
       "    <tr style=\"text-align: right;\">\n",
       "      <th></th>\n",
       "      <th>Date</th>\n",
       "      <th>Open</th>\n",
       "      <th>High</th>\n",
       "      <th>Low</th>\n",
       "      <th>Close</th>\n",
       "      <th>Adj Close</th>\n",
       "      <th>Volume</th>\n",
       "    </tr>\n",
       "  </thead>\n",
       "  <tbody>\n",
       "    <tr>\n",
       "      <th>0</th>\n",
       "      <td>2022-01-03</td>\n",
       "      <td>178.320007</td>\n",
       "      <td>179.089996</td>\n",
       "      <td>175.839996</td>\n",
       "      <td>177.740005</td>\n",
       "      <td>168.282104</td>\n",
       "      <td>1930700</td>\n",
       "    </tr>\n",
       "    <tr>\n",
       "      <th>1</th>\n",
       "      <td>2022-01-04</td>\n",
       "      <td>178.479996</td>\n",
       "      <td>181.259995</td>\n",
       "      <td>178.029999</td>\n",
       "      <td>180.229996</td>\n",
       "      <td>170.639603</td>\n",
       "      <td>2522200</td>\n",
       "    </tr>\n",
       "    <tr>\n",
       "      <th>2</th>\n",
       "      <td>2022-01-05</td>\n",
       "      <td>177.130005</td>\n",
       "      <td>181.779999</td>\n",
       "      <td>177.000000</td>\n",
       "      <td>179.490005</td>\n",
       "      <td>169.938995</td>\n",
       "      <td>2952400</td>\n",
       "    </tr>\n",
       "    <tr>\n",
       "      <th>3</th>\n",
       "      <td>2022-01-06</td>\n",
       "      <td>180.880005</td>\n",
       "      <td>181.279999</td>\n",
       "      <td>177.539993</td>\n",
       "      <td>178.000000</td>\n",
       "      <td>168.528275</td>\n",
       "      <td>2505400</td>\n",
       "    </tr>\n",
       "    <tr>\n",
       "      <th>4</th>\n",
       "      <td>2022-01-07</td>\n",
       "      <td>178.130005</td>\n",
       "      <td>180.490005</td>\n",
       "      <td>177.220001</td>\n",
       "      <td>179.949997</td>\n",
       "      <td>170.374496</td>\n",
       "      <td>2800200</td>\n",
       "    </tr>\n",
       "  </tbody>\n",
       "</table>\n",
       "</div>"
      ],
      "text/plain": [
       "         Date        Open        High         Low       Close   Adj Close  \\\n",
       "0  2022-01-03  178.320007  179.089996  175.839996  177.740005  168.282104   \n",
       "1  2022-01-04  178.479996  181.259995  178.029999  180.229996  170.639603   \n",
       "2  2022-01-05  177.130005  181.779999  177.000000  179.490005  169.938995   \n",
       "3  2022-01-06  180.880005  181.279999  177.539993  178.000000  168.528275   \n",
       "4  2022-01-07  178.130005  180.490005  177.220001  179.949997  170.374496   \n",
       "\n",
       "    Volume  \n",
       "0  1930700  \n",
       "1  2522200  \n",
       "2  2952400  \n",
       "3  2505400  \n",
       "4  2800200  "
      ]
     },
     "execution_count": 12,
     "metadata": {},
     "output_type": "execute_result"
    }
   ],
   "source": [
    "MMM.head(5)"
   ]
  },
  {
   "cell_type": "code",
   "execution_count": 13,
   "id": "5d18dd1e",
   "metadata": {},
   "outputs": [
    {
     "data": {
      "text/plain": [
       "Date         251\n",
       "Open         251\n",
       "High         251\n",
       "Low          251\n",
       "Close        251\n",
       "Adj Close    251\n",
       "Volume       251\n",
       "dtype: int64"
      ]
     },
     "execution_count": 13,
     "metadata": {},
     "output_type": "execute_result"
    }
   ],
   "source": [
    "MMM.count()"
   ]
  },
  {
   "cell_type": "code",
   "execution_count": 14,
   "id": "dc02467c",
   "metadata": {},
   "outputs": [],
   "source": [
    "KO = pd.read_csv('KO.csv')"
   ]
  },
  {
   "cell_type": "code",
   "execution_count": 15,
   "id": "89548486",
   "metadata": {},
   "outputs": [
    {
     "data": {
      "text/html": [
       "<div>\n",
       "<style scoped>\n",
       "    .dataframe tbody tr th:only-of-type {\n",
       "        vertical-align: middle;\n",
       "    }\n",
       "\n",
       "    .dataframe tbody tr th {\n",
       "        vertical-align: top;\n",
       "    }\n",
       "\n",
       "    .dataframe thead th {\n",
       "        text-align: right;\n",
       "    }\n",
       "</style>\n",
       "<table border=\"1\" class=\"dataframe\">\n",
       "  <thead>\n",
       "    <tr style=\"text-align: right;\">\n",
       "      <th></th>\n",
       "      <th>Date</th>\n",
       "      <th>Open</th>\n",
       "      <th>High</th>\n",
       "      <th>Low</th>\n",
       "      <th>Close</th>\n",
       "      <th>Adj Close</th>\n",
       "      <th>Volume</th>\n",
       "    </tr>\n",
       "  </thead>\n",
       "  <tbody>\n",
       "    <tr>\n",
       "      <th>0</th>\n",
       "      <td>2022-01-03</td>\n",
       "      <td>58.820000</td>\n",
       "      <td>59.310001</td>\n",
       "      <td>58.380001</td>\n",
       "      <td>59.299999</td>\n",
       "      <td>57.157574</td>\n",
       "      <td>20187300</td>\n",
       "    </tr>\n",
       "    <tr>\n",
       "      <th>1</th>\n",
       "      <td>2022-01-04</td>\n",
       "      <td>59.730000</td>\n",
       "      <td>60.540001</td>\n",
       "      <td>59.590000</td>\n",
       "      <td>60.290001</td>\n",
       "      <td>58.111809</td>\n",
       "      <td>26141600</td>\n",
       "    </tr>\n",
       "    <tr>\n",
       "      <th>2</th>\n",
       "      <td>2022-01-05</td>\n",
       "      <td>60.090000</td>\n",
       "      <td>61.200001</td>\n",
       "      <td>60.049999</td>\n",
       "      <td>60.790001</td>\n",
       "      <td>58.593746</td>\n",
       "      <td>22507300</td>\n",
       "    </tr>\n",
       "    <tr>\n",
       "      <th>3</th>\n",
       "      <td>2022-01-06</td>\n",
       "      <td>60.470001</td>\n",
       "      <td>61.119999</td>\n",
       "      <td>60.439999</td>\n",
       "      <td>60.470001</td>\n",
       "      <td>58.285309</td>\n",
       "      <td>17902300</td>\n",
       "    </tr>\n",
       "    <tr>\n",
       "      <th>4</th>\n",
       "      <td>2022-01-07</td>\n",
       "      <td>60.279999</td>\n",
       "      <td>60.720001</td>\n",
       "      <td>60.060001</td>\n",
       "      <td>60.330002</td>\n",
       "      <td>58.150364</td>\n",
       "      <td>12307900</td>\n",
       "    </tr>\n",
       "  </tbody>\n",
       "</table>\n",
       "</div>"
      ],
      "text/plain": [
       "         Date       Open       High        Low      Close  Adj Close    Volume\n",
       "0  2022-01-03  58.820000  59.310001  58.380001  59.299999  57.157574  20187300\n",
       "1  2022-01-04  59.730000  60.540001  59.590000  60.290001  58.111809  26141600\n",
       "2  2022-01-05  60.090000  61.200001  60.049999  60.790001  58.593746  22507300\n",
       "3  2022-01-06  60.470001  61.119999  60.439999  60.470001  58.285309  17902300\n",
       "4  2022-01-07  60.279999  60.720001  60.060001  60.330002  58.150364  12307900"
      ]
     },
     "execution_count": 15,
     "metadata": {},
     "output_type": "execute_result"
    }
   ],
   "source": [
    "KO.head(5)"
   ]
  },
  {
   "cell_type": "code",
   "execution_count": 16,
   "id": "dfee7a38",
   "metadata": {
    "scrolled": true
   },
   "outputs": [
    {
     "data": {
      "text/plain": [
       "Date         251\n",
       "Open         251\n",
       "High         251\n",
       "Low          251\n",
       "Close        251\n",
       "Adj Close    251\n",
       "Volume       251\n",
       "dtype: int64"
      ]
     },
     "execution_count": 16,
     "metadata": {},
     "output_type": "execute_result"
    }
   ],
   "source": [
    "KO.count()"
   ]
  },
  {
   "cell_type": "code",
   "execution_count": 17,
   "id": "2b439fcc",
   "metadata": {},
   "outputs": [
    {
     "name": "stdout",
     "output_type": "stream",
     "text": [
      "object\n"
     ]
    }
   ],
   "source": [
    "sp500 = pd.read_csv('SP500-3.csv')\n",
    "print(sp500['Adj Close'].dtype)\n",
    "sp500['Adj Close'] = sp500['Adj Close'].str.replace(',', '')  # Remove commas if present\n",
    "sp500['Adj Close'] = sp500['Adj Close'].str.replace('%', '')  # Remove percentage signs if present\n",
    "sp500['Adj Close'] = pd.to_numeric(sp500['Adj Close'], errors='coerce')\n"
   ]
  },
  {
   "cell_type": "code",
   "execution_count": 18,
   "id": "a79d6c1c",
   "metadata": {},
   "outputs": [
    {
     "data": {
      "text/html": [
       "<div>\n",
       "<style scoped>\n",
       "    .dataframe tbody tr th:only-of-type {\n",
       "        vertical-align: middle;\n",
       "    }\n",
       "\n",
       "    .dataframe tbody tr th {\n",
       "        vertical-align: top;\n",
       "    }\n",
       "\n",
       "    .dataframe thead th {\n",
       "        text-align: right;\n",
       "    }\n",
       "</style>\n",
       "<table border=\"1\" class=\"dataframe\">\n",
       "  <thead>\n",
       "    <tr style=\"text-align: right;\">\n",
       "      <th></th>\n",
       "      <th>Date</th>\n",
       "      <th>Open</th>\n",
       "      <th>High</th>\n",
       "      <th>Low</th>\n",
       "      <th>Close</th>\n",
       "      <th>Adj Close</th>\n",
       "      <th>Volume</th>\n",
       "    </tr>\n",
       "  </thead>\n",
       "  <tbody>\n",
       "    <tr>\n",
       "      <th>0</th>\n",
       "      <td>1/3/2022</td>\n",
       "      <td>4,778.14</td>\n",
       "      <td>4,796.64</td>\n",
       "      <td>4,758.17</td>\n",
       "      <td>4,796.56</td>\n",
       "      <td>4796.56</td>\n",
       "      <td>3,831,020,000</td>\n",
       "    </tr>\n",
       "    <tr>\n",
       "      <th>1</th>\n",
       "      <td>1/4/2022</td>\n",
       "      <td>4,804.51</td>\n",
       "      <td>4,818.62</td>\n",
       "      <td>4,774.27</td>\n",
       "      <td>4,793.54</td>\n",
       "      <td>4793.54</td>\n",
       "      <td>4,683,170,000</td>\n",
       "    </tr>\n",
       "    <tr>\n",
       "      <th>2</th>\n",
       "      <td>1/5/2022</td>\n",
       "      <td>4,787.99</td>\n",
       "      <td>4,797.70</td>\n",
       "      <td>4,699.44</td>\n",
       "      <td>4,700.58</td>\n",
       "      <td>4700.58</td>\n",
       "      <td>4,887,960,000</td>\n",
       "    </tr>\n",
       "    <tr>\n",
       "      <th>3</th>\n",
       "      <td>1/6/2022</td>\n",
       "      <td>4,693.39</td>\n",
       "      <td>4,725.01</td>\n",
       "      <td>4,671.26</td>\n",
       "      <td>4,696.05</td>\n",
       "      <td>4696.05</td>\n",
       "      <td>4,295,280,000</td>\n",
       "    </tr>\n",
       "    <tr>\n",
       "      <th>4</th>\n",
       "      <td>1/7/2022</td>\n",
       "      <td>4,697.66</td>\n",
       "      <td>4,707.95</td>\n",
       "      <td>4,662.74</td>\n",
       "      <td>4,677.03</td>\n",
       "      <td>4677.03</td>\n",
       "      <td>4,181,510,000</td>\n",
       "    </tr>\n",
       "  </tbody>\n",
       "</table>\n",
       "</div>"
      ],
      "text/plain": [
       "       Date      Open      High       Low     Close  Adj Close         Volume\n",
       "0  1/3/2022  4,778.14  4,796.64  4,758.17  4,796.56    4796.56  3,831,020,000\n",
       "1  1/4/2022  4,804.51  4,818.62  4,774.27  4,793.54    4793.54  4,683,170,000\n",
       "2  1/5/2022  4,787.99  4,797.70  4,699.44  4,700.58    4700.58  4,887,960,000\n",
       "3  1/6/2022  4,693.39  4,725.01  4,671.26  4,696.05    4696.05  4,295,280,000\n",
       "4  1/7/2022  4,697.66  4,707.95  4,662.74  4,677.03    4677.03  4,181,510,000"
      ]
     },
     "execution_count": 18,
     "metadata": {},
     "output_type": "execute_result"
    }
   ],
   "source": [
    "sp500.head()"
   ]
  },
  {
   "cell_type": "code",
   "execution_count": 19,
   "id": "f7d232f7",
   "metadata": {},
   "outputs": [
    {
     "data": {
      "text/plain": [
       "Date         251\n",
       "Open         251\n",
       "High         251\n",
       "Low          251\n",
       "Close        251\n",
       "Adj Close    251\n",
       "Volume       251\n",
       "dtype: int64"
      ]
     },
     "execution_count": 19,
     "metadata": {},
     "output_type": "execute_result"
    }
   ],
   "source": [
    "sp500.count()"
   ]
  },
  {
   "cell_type": "markdown",
   "id": "b9b156d6",
   "metadata": {},
   "source": [
    "# Part 2 - Processing Data"
   ]
  },
  {
   "cell_type": "code",
   "execution_count": 20,
   "id": "a83639c7",
   "metadata": {},
   "outputs": [],
   "source": [
    "#nvidia['Daily % Change'] = round(nvidia['Adj Close'].pct_change() * 100, 2)"
   ]
  },
  {
   "cell_type": "code",
   "execution_count": 21,
   "id": "317846aa",
   "metadata": {
    "scrolled": true
   },
   "outputs": [],
   "source": [
    "#print(\"Nvidia:\")\n",
    "#nvidia.head(20)"
   ]
  },
  {
   "cell_type": "code",
   "execution_count": 22,
   "id": "9c5b2f3d",
   "metadata": {
    "scrolled": true
   },
   "outputs": [],
   "source": [
    "#print(\"Total count:\", nvidia.count())\n",
    "#print()"
   ]
  },
  {
   "cell_type": "code",
   "execution_count": 23,
   "id": "1dd1cf8b",
   "metadata": {},
   "outputs": [],
   "source": [
    "nvidia['Daily % Change'] = (nvidia['Adj Close'] - nvidia['Adj Close'].shift(1)) / nvidia['Adj Close'].shift(1) * 100\n",
    "nvidia['Daily % Change'] = nvidia['Daily % Change'].round(2)\n",
    "\n",
    "tesla['Daily % Change'] = (tesla['Adj Close'] - tesla['Adj Close'].shift(1)) / tesla['Adj Close'].shift(1) * 100\n",
    "tesla['Daily % Change'] = tesla['Daily % Change'].round(2)\n",
    "\n",
    "jpmorgan['Daily % Change'] = (jpmorgan['Adj Close'] - jpmorgan['Adj Close'].shift(1)) / jpmorgan['Adj Close'].shift(1) * 100\n",
    "jpmorgan['Daily % Change'] = jpmorgan['Daily % Change'].round(2)\n",
    "\n",
    "MMM['Daily % Change'] = (MMM['Adj Close'] - MMM['Adj Close'].shift(1)) / MMM['Adj Close'].shift(1) * 100\n",
    "MMM['Daily % Change'] = MMM['Daily % Change'].round(2)\n",
    "\n",
    "KO['Daily % Change'] = (KO['Adj Close'] - KO['Adj Close'].shift(1)) / KO['Adj Close'].shift(1) * 100\n",
    "KO['Daily % Change'] = KO['Daily % Change'].round(2)\n"
   ]
  },
  {
   "cell_type": "code",
   "execution_count": 24,
   "id": "6f517f35",
   "metadata": {},
   "outputs": [],
   "source": [
    "sp500['Daily % Change'] = (sp500['Adj Close'] - sp500['Adj Close'].shift(1)) / sp500['Adj Close'].shift(1) * 100\n",
    "sp500['Daily % Change'] = sp500['Daily % Change'].round(2)"
   ]
  },
  {
   "cell_type": "code",
   "execution_count": 25,
   "id": "725d7dc5",
   "metadata": {},
   "outputs": [
    {
     "data": {
      "text/html": [
       "<div>\n",
       "<style scoped>\n",
       "    .dataframe tbody tr th:only-of-type {\n",
       "        vertical-align: middle;\n",
       "    }\n",
       "\n",
       "    .dataframe tbody tr th {\n",
       "        vertical-align: top;\n",
       "    }\n",
       "\n",
       "    .dataframe thead th {\n",
       "        text-align: right;\n",
       "    }\n",
       "</style>\n",
       "<table border=\"1\" class=\"dataframe\">\n",
       "  <thead>\n",
       "    <tr style=\"text-align: right;\">\n",
       "      <th></th>\n",
       "      <th>Date</th>\n",
       "      <th>Open</th>\n",
       "      <th>High</th>\n",
       "      <th>Low</th>\n",
       "      <th>Close</th>\n",
       "      <th>Adj Close</th>\n",
       "      <th>Volume</th>\n",
       "      <th>Daily % Change</th>\n",
       "    </tr>\n",
       "  </thead>\n",
       "  <tbody>\n",
       "    <tr>\n",
       "      <th>0</th>\n",
       "      <td>2022-01-03</td>\n",
       "      <td>298.149994</td>\n",
       "      <td>307.109985</td>\n",
       "      <td>297.850006</td>\n",
       "      <td>301.209991</td>\n",
       "      <td>300.877502</td>\n",
       "      <td>39154700</td>\n",
       "      <td>NaN</td>\n",
       "    </tr>\n",
       "    <tr>\n",
       "      <th>1</th>\n",
       "      <td>2022-01-04</td>\n",
       "      <td>302.769989</td>\n",
       "      <td>304.679993</td>\n",
       "      <td>283.489990</td>\n",
       "      <td>292.899994</td>\n",
       "      <td>292.576660</td>\n",
       "      <td>52715400</td>\n",
       "      <td>-2.76</td>\n",
       "    </tr>\n",
       "    <tr>\n",
       "      <th>2</th>\n",
       "      <td>2022-01-05</td>\n",
       "      <td>289.489990</td>\n",
       "      <td>294.160004</td>\n",
       "      <td>275.329987</td>\n",
       "      <td>276.040009</td>\n",
       "      <td>275.735291</td>\n",
       "      <td>49806400</td>\n",
       "      <td>-5.76</td>\n",
       "    </tr>\n",
       "    <tr>\n",
       "      <th>3</th>\n",
       "      <td>2022-01-06</td>\n",
       "      <td>276.399994</td>\n",
       "      <td>284.380005</td>\n",
       "      <td>270.649994</td>\n",
       "      <td>281.779999</td>\n",
       "      <td>281.468933</td>\n",
       "      <td>45418600</td>\n",
       "      <td>2.08</td>\n",
       "    </tr>\n",
       "    <tr>\n",
       "      <th>4</th>\n",
       "      <td>2022-01-07</td>\n",
       "      <td>281.410004</td>\n",
       "      <td>284.220001</td>\n",
       "      <td>270.570007</td>\n",
       "      <td>272.470001</td>\n",
       "      <td>272.169250</td>\n",
       "      <td>40993900</td>\n",
       "      <td>-3.30</td>\n",
       "    </tr>\n",
       "    <tr>\n",
       "      <th>...</th>\n",
       "      <td>...</td>\n",
       "      <td>...</td>\n",
       "      <td>...</td>\n",
       "      <td>...</td>\n",
       "      <td>...</td>\n",
       "      <td>...</td>\n",
       "      <td>...</td>\n",
       "      <td>...</td>\n",
       "    </tr>\n",
       "    <tr>\n",
       "      <th>246</th>\n",
       "      <td>2022-12-23</td>\n",
       "      <td>151.960007</td>\n",
       "      <td>153.389999</td>\n",
       "      <td>148.830002</td>\n",
       "      <td>152.059998</td>\n",
       "      <td>152.034180</td>\n",
       "      <td>34932600</td>\n",
       "      <td>-0.87</td>\n",
       "    </tr>\n",
       "    <tr>\n",
       "      <th>247</th>\n",
       "      <td>2022-12-27</td>\n",
       "      <td>150.740005</td>\n",
       "      <td>151.000000</td>\n",
       "      <td>140.559998</td>\n",
       "      <td>141.210007</td>\n",
       "      <td>141.186020</td>\n",
       "      <td>46490200</td>\n",
       "      <td>-7.14</td>\n",
       "    </tr>\n",
       "    <tr>\n",
       "      <th>248</th>\n",
       "      <td>2022-12-28</td>\n",
       "      <td>139.270004</td>\n",
       "      <td>142.619995</td>\n",
       "      <td>138.839996</td>\n",
       "      <td>140.360001</td>\n",
       "      <td>140.336166</td>\n",
       "      <td>35106600</td>\n",
       "      <td>-0.60</td>\n",
       "    </tr>\n",
       "    <tr>\n",
       "      <th>249</th>\n",
       "      <td>2022-12-29</td>\n",
       "      <td>144.020004</td>\n",
       "      <td>146.830002</td>\n",
       "      <td>142.270004</td>\n",
       "      <td>146.029999</td>\n",
       "      <td>146.005203</td>\n",
       "      <td>35492300</td>\n",
       "      <td>4.04</td>\n",
       "    </tr>\n",
       "    <tr>\n",
       "      <th>250</th>\n",
       "      <td>2022-12-30</td>\n",
       "      <td>143.339996</td>\n",
       "      <td>146.289993</td>\n",
       "      <td>142.330002</td>\n",
       "      <td>146.139999</td>\n",
       "      <td>146.115189</td>\n",
       "      <td>31049000</td>\n",
       "      <td>0.08</td>\n",
       "    </tr>\n",
       "  </tbody>\n",
       "</table>\n",
       "<p>251 rows × 8 columns</p>\n",
       "</div>"
      ],
      "text/plain": [
       "           Date        Open        High         Low       Close   Adj Close  \\\n",
       "0    2022-01-03  298.149994  307.109985  297.850006  301.209991  300.877502   \n",
       "1    2022-01-04  302.769989  304.679993  283.489990  292.899994  292.576660   \n",
       "2    2022-01-05  289.489990  294.160004  275.329987  276.040009  275.735291   \n",
       "3    2022-01-06  276.399994  284.380005  270.649994  281.779999  281.468933   \n",
       "4    2022-01-07  281.410004  284.220001  270.570007  272.470001  272.169250   \n",
       "..          ...         ...         ...         ...         ...         ...   \n",
       "246  2022-12-23  151.960007  153.389999  148.830002  152.059998  152.034180   \n",
       "247  2022-12-27  150.740005  151.000000  140.559998  141.210007  141.186020   \n",
       "248  2022-12-28  139.270004  142.619995  138.839996  140.360001  140.336166   \n",
       "249  2022-12-29  144.020004  146.830002  142.270004  146.029999  146.005203   \n",
       "250  2022-12-30  143.339996  146.289993  142.330002  146.139999  146.115189   \n",
       "\n",
       "       Volume  Daily % Change  \n",
       "0    39154700             NaN  \n",
       "1    52715400           -2.76  \n",
       "2    49806400           -5.76  \n",
       "3    45418600            2.08  \n",
       "4    40993900           -3.30  \n",
       "..        ...             ...  \n",
       "246  34932600           -0.87  \n",
       "247  46490200           -7.14  \n",
       "248  35106600           -0.60  \n",
       "249  35492300            4.04  \n",
       "250  31049000            0.08  \n",
       "\n",
       "[251 rows x 8 columns]"
      ]
     },
     "execution_count": 25,
     "metadata": {},
     "output_type": "execute_result"
    }
   ],
   "source": [
    "nvidia"
   ]
  },
  {
   "cell_type": "code",
   "execution_count": 26,
   "id": "d21ab08b",
   "metadata": {},
   "outputs": [
    {
     "data": {
      "text/plain": [
       "Date              251\n",
       "Open              251\n",
       "High              251\n",
       "Low               251\n",
       "Close             251\n",
       "Adj Close         251\n",
       "Volume            251\n",
       "Daily % Change    250\n",
       "dtype: int64"
      ]
     },
     "execution_count": 26,
     "metadata": {},
     "output_type": "execute_result"
    }
   ],
   "source": [
    "nvidia.count()"
   ]
  },
  {
   "cell_type": "code",
   "execution_count": 27,
   "id": "88dccaa9",
   "metadata": {},
   "outputs": [
    {
     "data": {
      "text/html": [
       "<div>\n",
       "<style scoped>\n",
       "    .dataframe tbody tr th:only-of-type {\n",
       "        vertical-align: middle;\n",
       "    }\n",
       "\n",
       "    .dataframe tbody tr th {\n",
       "        vertical-align: top;\n",
       "    }\n",
       "\n",
       "    .dataframe thead th {\n",
       "        text-align: right;\n",
       "    }\n",
       "</style>\n",
       "<table border=\"1\" class=\"dataframe\">\n",
       "  <thead>\n",
       "    <tr style=\"text-align: right;\">\n",
       "      <th></th>\n",
       "      <th>Date</th>\n",
       "      <th>Open</th>\n",
       "      <th>High</th>\n",
       "      <th>Low</th>\n",
       "      <th>Close</th>\n",
       "      <th>Adj Close</th>\n",
       "      <th>Volume</th>\n",
       "      <th>Daily % Change</th>\n",
       "    </tr>\n",
       "  </thead>\n",
       "  <tbody>\n",
       "    <tr>\n",
       "      <th>0</th>\n",
       "      <td>2022-01-03</td>\n",
       "      <td>382.583344</td>\n",
       "      <td>400.356659</td>\n",
       "      <td>378.679993</td>\n",
       "      <td>399.926666</td>\n",
       "      <td>399.926666</td>\n",
       "      <td>103931400</td>\n",
       "      <td>NaN</td>\n",
       "    </tr>\n",
       "    <tr>\n",
       "      <th>1</th>\n",
       "      <td>2022-01-04</td>\n",
       "      <td>396.516663</td>\n",
       "      <td>402.666656</td>\n",
       "      <td>374.350006</td>\n",
       "      <td>383.196655</td>\n",
       "      <td>383.196655</td>\n",
       "      <td>100248300</td>\n",
       "      <td>-4.18</td>\n",
       "    </tr>\n",
       "    <tr>\n",
       "      <th>2</th>\n",
       "      <td>2022-01-05</td>\n",
       "      <td>382.216675</td>\n",
       "      <td>390.113342</td>\n",
       "      <td>360.336670</td>\n",
       "      <td>362.706665</td>\n",
       "      <td>362.706665</td>\n",
       "      <td>80119800</td>\n",
       "      <td>-5.35</td>\n",
       "    </tr>\n",
       "    <tr>\n",
       "      <th>3</th>\n",
       "      <td>2022-01-06</td>\n",
       "      <td>359.000000</td>\n",
       "      <td>362.666656</td>\n",
       "      <td>340.166656</td>\n",
       "      <td>354.899994</td>\n",
       "      <td>354.899994</td>\n",
       "      <td>90336600</td>\n",
       "      <td>-2.15</td>\n",
       "    </tr>\n",
       "    <tr>\n",
       "      <th>4</th>\n",
       "      <td>2022-01-07</td>\n",
       "      <td>360.123322</td>\n",
       "      <td>360.309998</td>\n",
       "      <td>336.666656</td>\n",
       "      <td>342.320007</td>\n",
       "      <td>342.320007</td>\n",
       "      <td>84164700</td>\n",
       "      <td>-3.54</td>\n",
       "    </tr>\n",
       "    <tr>\n",
       "      <th>...</th>\n",
       "      <td>...</td>\n",
       "      <td>...</td>\n",
       "      <td>...</td>\n",
       "      <td>...</td>\n",
       "      <td>...</td>\n",
       "      <td>...</td>\n",
       "      <td>...</td>\n",
       "      <td>...</td>\n",
       "    </tr>\n",
       "    <tr>\n",
       "      <th>246</th>\n",
       "      <td>2022-12-23</td>\n",
       "      <td>126.370003</td>\n",
       "      <td>128.619995</td>\n",
       "      <td>121.019997</td>\n",
       "      <td>123.150002</td>\n",
       "      <td>123.150002</td>\n",
       "      <td>166989700</td>\n",
       "      <td>-1.76</td>\n",
       "    </tr>\n",
       "    <tr>\n",
       "      <th>247</th>\n",
       "      <td>2022-12-27</td>\n",
       "      <td>117.500000</td>\n",
       "      <td>119.669998</td>\n",
       "      <td>108.760002</td>\n",
       "      <td>109.099998</td>\n",
       "      <td>109.099998</td>\n",
       "      <td>208643400</td>\n",
       "      <td>-11.41</td>\n",
       "    </tr>\n",
       "    <tr>\n",
       "      <th>248</th>\n",
       "      <td>2022-12-28</td>\n",
       "      <td>110.349998</td>\n",
       "      <td>116.269997</td>\n",
       "      <td>108.239998</td>\n",
       "      <td>112.709999</td>\n",
       "      <td>112.709999</td>\n",
       "      <td>221070500</td>\n",
       "      <td>3.31</td>\n",
       "    </tr>\n",
       "    <tr>\n",
       "      <th>249</th>\n",
       "      <td>2022-12-29</td>\n",
       "      <td>120.389999</td>\n",
       "      <td>123.570000</td>\n",
       "      <td>117.500000</td>\n",
       "      <td>121.820000</td>\n",
       "      <td>121.820000</td>\n",
       "      <td>221923300</td>\n",
       "      <td>8.08</td>\n",
       "    </tr>\n",
       "    <tr>\n",
       "      <th>250</th>\n",
       "      <td>2022-12-30</td>\n",
       "      <td>119.949997</td>\n",
       "      <td>124.480003</td>\n",
       "      <td>119.750000</td>\n",
       "      <td>123.180000</td>\n",
       "      <td>123.180000</td>\n",
       "      <td>157777300</td>\n",
       "      <td>1.12</td>\n",
       "    </tr>\n",
       "  </tbody>\n",
       "</table>\n",
       "<p>251 rows × 8 columns</p>\n",
       "</div>"
      ],
      "text/plain": [
       "           Date        Open        High         Low       Close   Adj Close  \\\n",
       "0    2022-01-03  382.583344  400.356659  378.679993  399.926666  399.926666   \n",
       "1    2022-01-04  396.516663  402.666656  374.350006  383.196655  383.196655   \n",
       "2    2022-01-05  382.216675  390.113342  360.336670  362.706665  362.706665   \n",
       "3    2022-01-06  359.000000  362.666656  340.166656  354.899994  354.899994   \n",
       "4    2022-01-07  360.123322  360.309998  336.666656  342.320007  342.320007   \n",
       "..          ...         ...         ...         ...         ...         ...   \n",
       "246  2022-12-23  126.370003  128.619995  121.019997  123.150002  123.150002   \n",
       "247  2022-12-27  117.500000  119.669998  108.760002  109.099998  109.099998   \n",
       "248  2022-12-28  110.349998  116.269997  108.239998  112.709999  112.709999   \n",
       "249  2022-12-29  120.389999  123.570000  117.500000  121.820000  121.820000   \n",
       "250  2022-12-30  119.949997  124.480003  119.750000  123.180000  123.180000   \n",
       "\n",
       "        Volume  Daily % Change  \n",
       "0    103931400             NaN  \n",
       "1    100248300           -4.18  \n",
       "2     80119800           -5.35  \n",
       "3     90336600           -2.15  \n",
       "4     84164700           -3.54  \n",
       "..         ...             ...  \n",
       "246  166989700           -1.76  \n",
       "247  208643400          -11.41  \n",
       "248  221070500            3.31  \n",
       "249  221923300            8.08  \n",
       "250  157777300            1.12  \n",
       "\n",
       "[251 rows x 8 columns]"
      ]
     },
     "execution_count": 27,
     "metadata": {},
     "output_type": "execute_result"
    }
   ],
   "source": [
    "tesla"
   ]
  },
  {
   "cell_type": "code",
   "execution_count": 28,
   "id": "1dae75af",
   "metadata": {},
   "outputs": [
    {
     "data": {
      "text/plain": [
       "Date              251\n",
       "Open              251\n",
       "High              251\n",
       "Low               251\n",
       "Close             251\n",
       "Adj Close         251\n",
       "Volume            251\n",
       "Daily % Change    250\n",
       "dtype: int64"
      ]
     },
     "execution_count": 28,
     "metadata": {},
     "output_type": "execute_result"
    }
   ],
   "source": [
    "tesla.count()"
   ]
  },
  {
   "cell_type": "code",
   "execution_count": 29,
   "id": "2b6f82e3",
   "metadata": {},
   "outputs": [
    {
     "data": {
      "text/html": [
       "<div>\n",
       "<style scoped>\n",
       "    .dataframe tbody tr th:only-of-type {\n",
       "        vertical-align: middle;\n",
       "    }\n",
       "\n",
       "    .dataframe tbody tr th {\n",
       "        vertical-align: top;\n",
       "    }\n",
       "\n",
       "    .dataframe thead th {\n",
       "        text-align: right;\n",
       "    }\n",
       "</style>\n",
       "<table border=\"1\" class=\"dataframe\">\n",
       "  <thead>\n",
       "    <tr style=\"text-align: right;\">\n",
       "      <th></th>\n",
       "      <th>Date</th>\n",
       "      <th>Open</th>\n",
       "      <th>High</th>\n",
       "      <th>Low</th>\n",
       "      <th>Close</th>\n",
       "      <th>Adj Close</th>\n",
       "      <th>Volume</th>\n",
       "      <th>Daily % Change</th>\n",
       "    </tr>\n",
       "  </thead>\n",
       "  <tbody>\n",
       "    <tr>\n",
       "      <th>0</th>\n",
       "      <td>2022-01-03</td>\n",
       "      <td>159.860001</td>\n",
       "      <td>162.639999</td>\n",
       "      <td>159.509995</td>\n",
       "      <td>161.699997</td>\n",
       "      <td>154.391342</td>\n",
       "      <td>13120900</td>\n",
       "      <td>NaN</td>\n",
       "    </tr>\n",
       "    <tr>\n",
       "      <th>1</th>\n",
       "      <td>2022-01-04</td>\n",
       "      <td>164.309998</td>\n",
       "      <td>168.580002</td>\n",
       "      <td>164.229996</td>\n",
       "      <td>167.830002</td>\n",
       "      <td>160.244308</td>\n",
       "      <td>20195800</td>\n",
       "      <td>3.79</td>\n",
       "    </tr>\n",
       "    <tr>\n",
       "      <th>2</th>\n",
       "      <td>2022-01-05</td>\n",
       "      <td>167.820007</td>\n",
       "      <td>168.360001</td>\n",
       "      <td>163.729996</td>\n",
       "      <td>163.779999</td>\n",
       "      <td>157.314682</td>\n",
       "      <td>17539400</td>\n",
       "      <td>-1.83</td>\n",
       "    </tr>\n",
       "    <tr>\n",
       "      <th>3</th>\n",
       "      <td>2022-01-06</td>\n",
       "      <td>166.910004</td>\n",
       "      <td>167.369995</td>\n",
       "      <td>163.869995</td>\n",
       "      <td>165.520004</td>\n",
       "      <td>158.986023</td>\n",
       "      <td>14047500</td>\n",
       "      <td>1.06</td>\n",
       "    </tr>\n",
       "    <tr>\n",
       "      <th>4</th>\n",
       "      <td>2022-01-07</td>\n",
       "      <td>165.669998</td>\n",
       "      <td>167.529999</td>\n",
       "      <td>165.059998</td>\n",
       "      <td>167.160004</td>\n",
       "      <td>160.561264</td>\n",
       "      <td>13913300</td>\n",
       "      <td>0.99</td>\n",
       "    </tr>\n",
       "    <tr>\n",
       "      <th>...</th>\n",
       "      <td>...</td>\n",
       "      <td>...</td>\n",
       "      <td>...</td>\n",
       "      <td>...</td>\n",
       "      <td>...</td>\n",
       "      <td>...</td>\n",
       "      <td>...</td>\n",
       "      <td>...</td>\n",
       "    </tr>\n",
       "    <tr>\n",
       "      <th>246</th>\n",
       "      <td>2022-12-23</td>\n",
       "      <td>130.580002</td>\n",
       "      <td>131.440002</td>\n",
       "      <td>129.639999</td>\n",
       "      <td>131.279999</td>\n",
       "      <td>129.302628</td>\n",
       "      <td>5091900</td>\n",
       "      <td>0.47</td>\n",
       "    </tr>\n",
       "    <tr>\n",
       "      <th>247</th>\n",
       "      <td>2022-12-27</td>\n",
       "      <td>131.570007</td>\n",
       "      <td>132.220001</td>\n",
       "      <td>130.550003</td>\n",
       "      <td>131.740005</td>\n",
       "      <td>129.755707</td>\n",
       "      <td>5411000</td>\n",
       "      <td>0.35</td>\n",
       "    </tr>\n",
       "    <tr>\n",
       "      <th>248</th>\n",
       "      <td>2022-12-28</td>\n",
       "      <td>131.850006</td>\n",
       "      <td>133.410004</td>\n",
       "      <td>131.009995</td>\n",
       "      <td>132.460007</td>\n",
       "      <td>130.464859</td>\n",
       "      <td>8827700</td>\n",
       "      <td>0.55</td>\n",
       "    </tr>\n",
       "    <tr>\n",
       "      <th>249</th>\n",
       "      <td>2022-12-29</td>\n",
       "      <td>132.929993</td>\n",
       "      <td>133.270004</td>\n",
       "      <td>132.309998</td>\n",
       "      <td>133.220001</td>\n",
       "      <td>131.213409</td>\n",
       "      <td>6585200</td>\n",
       "      <td>0.57</td>\n",
       "    </tr>\n",
       "    <tr>\n",
       "      <th>250</th>\n",
       "      <td>2022-12-30</td>\n",
       "      <td>132.809998</td>\n",
       "      <td>134.330002</td>\n",
       "      <td>132.440002</td>\n",
       "      <td>134.100006</td>\n",
       "      <td>132.080154</td>\n",
       "      <td>9292500</td>\n",
       "      <td>0.66</td>\n",
       "    </tr>\n",
       "  </tbody>\n",
       "</table>\n",
       "<p>251 rows × 8 columns</p>\n",
       "</div>"
      ],
      "text/plain": [
       "           Date        Open        High         Low       Close   Adj Close  \\\n",
       "0    2022-01-03  159.860001  162.639999  159.509995  161.699997  154.391342   \n",
       "1    2022-01-04  164.309998  168.580002  164.229996  167.830002  160.244308   \n",
       "2    2022-01-05  167.820007  168.360001  163.729996  163.779999  157.314682   \n",
       "3    2022-01-06  166.910004  167.369995  163.869995  165.520004  158.986023   \n",
       "4    2022-01-07  165.669998  167.529999  165.059998  167.160004  160.561264   \n",
       "..          ...         ...         ...         ...         ...         ...   \n",
       "246  2022-12-23  130.580002  131.440002  129.639999  131.279999  129.302628   \n",
       "247  2022-12-27  131.570007  132.220001  130.550003  131.740005  129.755707   \n",
       "248  2022-12-28  131.850006  133.410004  131.009995  132.460007  130.464859   \n",
       "249  2022-12-29  132.929993  133.270004  132.309998  133.220001  131.213409   \n",
       "250  2022-12-30  132.809998  134.330002  132.440002  134.100006  132.080154   \n",
       "\n",
       "       Volume  Daily % Change  \n",
       "0    13120900             NaN  \n",
       "1    20195800            3.79  \n",
       "2    17539400           -1.83  \n",
       "3    14047500            1.06  \n",
       "4    13913300            0.99  \n",
       "..        ...             ...  \n",
       "246   5091900            0.47  \n",
       "247   5411000            0.35  \n",
       "248   8827700            0.55  \n",
       "249   6585200            0.57  \n",
       "250   9292500            0.66  \n",
       "\n",
       "[251 rows x 8 columns]"
      ]
     },
     "execution_count": 29,
     "metadata": {},
     "output_type": "execute_result"
    }
   ],
   "source": [
    "jpmorgan"
   ]
  },
  {
   "cell_type": "code",
   "execution_count": 30,
   "id": "6b9cbfc5",
   "metadata": {},
   "outputs": [
    {
     "data": {
      "text/plain": [
       "Date              251\n",
       "Open              251\n",
       "High              251\n",
       "Low               251\n",
       "Close             251\n",
       "Adj Close         251\n",
       "Volume            251\n",
       "Daily % Change    250\n",
       "dtype: int64"
      ]
     },
     "execution_count": 30,
     "metadata": {},
     "output_type": "execute_result"
    }
   ],
   "source": [
    "jpmorgan.count()"
   ]
  },
  {
   "cell_type": "code",
   "execution_count": 31,
   "id": "921eaed9",
   "metadata": {},
   "outputs": [
    {
     "data": {
      "text/html": [
       "<div>\n",
       "<style scoped>\n",
       "    .dataframe tbody tr th:only-of-type {\n",
       "        vertical-align: middle;\n",
       "    }\n",
       "\n",
       "    .dataframe tbody tr th {\n",
       "        vertical-align: top;\n",
       "    }\n",
       "\n",
       "    .dataframe thead th {\n",
       "        text-align: right;\n",
       "    }\n",
       "</style>\n",
       "<table border=\"1\" class=\"dataframe\">\n",
       "  <thead>\n",
       "    <tr style=\"text-align: right;\">\n",
       "      <th></th>\n",
       "      <th>Date</th>\n",
       "      <th>Open</th>\n",
       "      <th>High</th>\n",
       "      <th>Low</th>\n",
       "      <th>Close</th>\n",
       "      <th>Adj Close</th>\n",
       "      <th>Volume</th>\n",
       "      <th>Daily % Change</th>\n",
       "    </tr>\n",
       "  </thead>\n",
       "  <tbody>\n",
       "    <tr>\n",
       "      <th>0</th>\n",
       "      <td>2022-01-03</td>\n",
       "      <td>178.320007</td>\n",
       "      <td>179.089996</td>\n",
       "      <td>175.839996</td>\n",
       "      <td>177.740005</td>\n",
       "      <td>168.282104</td>\n",
       "      <td>1930700</td>\n",
       "      <td>NaN</td>\n",
       "    </tr>\n",
       "    <tr>\n",
       "      <th>1</th>\n",
       "      <td>2022-01-04</td>\n",
       "      <td>178.479996</td>\n",
       "      <td>181.259995</td>\n",
       "      <td>178.029999</td>\n",
       "      <td>180.229996</td>\n",
       "      <td>170.639603</td>\n",
       "      <td>2522200</td>\n",
       "      <td>1.40</td>\n",
       "    </tr>\n",
       "    <tr>\n",
       "      <th>2</th>\n",
       "      <td>2022-01-05</td>\n",
       "      <td>177.130005</td>\n",
       "      <td>181.779999</td>\n",
       "      <td>177.000000</td>\n",
       "      <td>179.490005</td>\n",
       "      <td>169.938995</td>\n",
       "      <td>2952400</td>\n",
       "      <td>-0.41</td>\n",
       "    </tr>\n",
       "    <tr>\n",
       "      <th>3</th>\n",
       "      <td>2022-01-06</td>\n",
       "      <td>180.880005</td>\n",
       "      <td>181.279999</td>\n",
       "      <td>177.539993</td>\n",
       "      <td>178.000000</td>\n",
       "      <td>168.528275</td>\n",
       "      <td>2505400</td>\n",
       "      <td>-0.83</td>\n",
       "    </tr>\n",
       "    <tr>\n",
       "      <th>4</th>\n",
       "      <td>2022-01-07</td>\n",
       "      <td>178.130005</td>\n",
       "      <td>180.490005</td>\n",
       "      <td>177.220001</td>\n",
       "      <td>179.949997</td>\n",
       "      <td>170.374496</td>\n",
       "      <td>2800200</td>\n",
       "      <td>1.10</td>\n",
       "    </tr>\n",
       "    <tr>\n",
       "      <th>...</th>\n",
       "      <td>...</td>\n",
       "      <td>...</td>\n",
       "      <td>...</td>\n",
       "      <td>...</td>\n",
       "      <td>...</td>\n",
       "      <td>...</td>\n",
       "      <td>...</td>\n",
       "      <td>...</td>\n",
       "    </tr>\n",
       "    <tr>\n",
       "      <th>246</th>\n",
       "      <td>2022-12-23</td>\n",
       "      <td>120.790001</td>\n",
       "      <td>121.000000</td>\n",
       "      <td>117.800003</td>\n",
       "      <td>120.139999</td>\n",
       "      <td>118.570084</td>\n",
       "      <td>2609300</td>\n",
       "      <td>-1.19</td>\n",
       "    </tr>\n",
       "    <tr>\n",
       "      <th>247</th>\n",
       "      <td>2022-12-27</td>\n",
       "      <td>120.139999</td>\n",
       "      <td>120.830002</td>\n",
       "      <td>119.160004</td>\n",
       "      <td>120.220001</td>\n",
       "      <td>118.649040</td>\n",
       "      <td>1811200</td>\n",
       "      <td>0.07</td>\n",
       "    </tr>\n",
       "    <tr>\n",
       "      <th>248</th>\n",
       "      <td>2022-12-28</td>\n",
       "      <td>120.349998</td>\n",
       "      <td>121.000000</td>\n",
       "      <td>118.250000</td>\n",
       "      <td>118.290001</td>\n",
       "      <td>116.744263</td>\n",
       "      <td>1961000</td>\n",
       "      <td>-1.61</td>\n",
       "    </tr>\n",
       "    <tr>\n",
       "      <th>249</th>\n",
       "      <td>2022-12-29</td>\n",
       "      <td>118.870003</td>\n",
       "      <td>120.860001</td>\n",
       "      <td>118.500000</td>\n",
       "      <td>120.570000</td>\n",
       "      <td>118.994469</td>\n",
       "      <td>2060800</td>\n",
       "      <td>1.93</td>\n",
       "    </tr>\n",
       "    <tr>\n",
       "      <th>250</th>\n",
       "      <td>2022-12-30</td>\n",
       "      <td>119.650002</td>\n",
       "      <td>120.029999</td>\n",
       "      <td>118.510002</td>\n",
       "      <td>119.919998</td>\n",
       "      <td>118.352959</td>\n",
       "      <td>2096000</td>\n",
       "      <td>-0.54</td>\n",
       "    </tr>\n",
       "  </tbody>\n",
       "</table>\n",
       "<p>251 rows × 8 columns</p>\n",
       "</div>"
      ],
      "text/plain": [
       "           Date        Open        High         Low       Close   Adj Close  \\\n",
       "0    2022-01-03  178.320007  179.089996  175.839996  177.740005  168.282104   \n",
       "1    2022-01-04  178.479996  181.259995  178.029999  180.229996  170.639603   \n",
       "2    2022-01-05  177.130005  181.779999  177.000000  179.490005  169.938995   \n",
       "3    2022-01-06  180.880005  181.279999  177.539993  178.000000  168.528275   \n",
       "4    2022-01-07  178.130005  180.490005  177.220001  179.949997  170.374496   \n",
       "..          ...         ...         ...         ...         ...         ...   \n",
       "246  2022-12-23  120.790001  121.000000  117.800003  120.139999  118.570084   \n",
       "247  2022-12-27  120.139999  120.830002  119.160004  120.220001  118.649040   \n",
       "248  2022-12-28  120.349998  121.000000  118.250000  118.290001  116.744263   \n",
       "249  2022-12-29  118.870003  120.860001  118.500000  120.570000  118.994469   \n",
       "250  2022-12-30  119.650002  120.029999  118.510002  119.919998  118.352959   \n",
       "\n",
       "      Volume  Daily % Change  \n",
       "0    1930700             NaN  \n",
       "1    2522200            1.40  \n",
       "2    2952400           -0.41  \n",
       "3    2505400           -0.83  \n",
       "4    2800200            1.10  \n",
       "..       ...             ...  \n",
       "246  2609300           -1.19  \n",
       "247  1811200            0.07  \n",
       "248  1961000           -1.61  \n",
       "249  2060800            1.93  \n",
       "250  2096000           -0.54  \n",
       "\n",
       "[251 rows x 8 columns]"
      ]
     },
     "execution_count": 31,
     "metadata": {},
     "output_type": "execute_result"
    }
   ],
   "source": [
    "MMM"
   ]
  },
  {
   "cell_type": "code",
   "execution_count": 32,
   "id": "e7fa9b76",
   "metadata": {},
   "outputs": [
    {
     "data": {
      "text/plain": [
       "Date              251\n",
       "Open              251\n",
       "High              251\n",
       "Low               251\n",
       "Close             251\n",
       "Adj Close         251\n",
       "Volume            251\n",
       "Daily % Change    250\n",
       "dtype: int64"
      ]
     },
     "execution_count": 32,
     "metadata": {},
     "output_type": "execute_result"
    }
   ],
   "source": [
    "MMM.count()"
   ]
  },
  {
   "cell_type": "code",
   "execution_count": 33,
   "id": "c5eb8a71",
   "metadata": {},
   "outputs": [
    {
     "data": {
      "text/html": [
       "<div>\n",
       "<style scoped>\n",
       "    .dataframe tbody tr th:only-of-type {\n",
       "        vertical-align: middle;\n",
       "    }\n",
       "\n",
       "    .dataframe tbody tr th {\n",
       "        vertical-align: top;\n",
       "    }\n",
       "\n",
       "    .dataframe thead th {\n",
       "        text-align: right;\n",
       "    }\n",
       "</style>\n",
       "<table border=\"1\" class=\"dataframe\">\n",
       "  <thead>\n",
       "    <tr style=\"text-align: right;\">\n",
       "      <th></th>\n",
       "      <th>Date</th>\n",
       "      <th>Open</th>\n",
       "      <th>High</th>\n",
       "      <th>Low</th>\n",
       "      <th>Close</th>\n",
       "      <th>Adj Close</th>\n",
       "      <th>Volume</th>\n",
       "      <th>Daily % Change</th>\n",
       "    </tr>\n",
       "  </thead>\n",
       "  <tbody>\n",
       "    <tr>\n",
       "      <th>0</th>\n",
       "      <td>2022-01-03</td>\n",
       "      <td>58.820000</td>\n",
       "      <td>59.310001</td>\n",
       "      <td>58.380001</td>\n",
       "      <td>59.299999</td>\n",
       "      <td>57.157574</td>\n",
       "      <td>20187300</td>\n",
       "      <td>NaN</td>\n",
       "    </tr>\n",
       "    <tr>\n",
       "      <th>1</th>\n",
       "      <td>2022-01-04</td>\n",
       "      <td>59.730000</td>\n",
       "      <td>60.540001</td>\n",
       "      <td>59.590000</td>\n",
       "      <td>60.290001</td>\n",
       "      <td>58.111809</td>\n",
       "      <td>26141600</td>\n",
       "      <td>1.67</td>\n",
       "    </tr>\n",
       "    <tr>\n",
       "      <th>2</th>\n",
       "      <td>2022-01-05</td>\n",
       "      <td>60.090000</td>\n",
       "      <td>61.200001</td>\n",
       "      <td>60.049999</td>\n",
       "      <td>60.790001</td>\n",
       "      <td>58.593746</td>\n",
       "      <td>22507300</td>\n",
       "      <td>0.83</td>\n",
       "    </tr>\n",
       "    <tr>\n",
       "      <th>3</th>\n",
       "      <td>2022-01-06</td>\n",
       "      <td>60.470001</td>\n",
       "      <td>61.119999</td>\n",
       "      <td>60.439999</td>\n",
       "      <td>60.470001</td>\n",
       "      <td>58.285309</td>\n",
       "      <td>17902300</td>\n",
       "      <td>-0.53</td>\n",
       "    </tr>\n",
       "    <tr>\n",
       "      <th>4</th>\n",
       "      <td>2022-01-07</td>\n",
       "      <td>60.279999</td>\n",
       "      <td>60.720001</td>\n",
       "      <td>60.060001</td>\n",
       "      <td>60.330002</td>\n",
       "      <td>58.150364</td>\n",
       "      <td>12307900</td>\n",
       "      <td>-0.23</td>\n",
       "    </tr>\n",
       "    <tr>\n",
       "      <th>...</th>\n",
       "      <td>...</td>\n",
       "      <td>...</td>\n",
       "      <td>...</td>\n",
       "      <td>...</td>\n",
       "      <td>...</td>\n",
       "      <td>...</td>\n",
       "      <td>...</td>\n",
       "      <td>...</td>\n",
       "    </tr>\n",
       "    <tr>\n",
       "      <th>246</th>\n",
       "      <td>2022-12-23</td>\n",
       "      <td>63.500000</td>\n",
       "      <td>63.869999</td>\n",
       "      <td>63.200001</td>\n",
       "      <td>63.820000</td>\n",
       "      <td>63.334194</td>\n",
       "      <td>6463300</td>\n",
       "      <td>0.76</td>\n",
       "    </tr>\n",
       "    <tr>\n",
       "      <th>247</th>\n",
       "      <td>2022-12-27</td>\n",
       "      <td>63.930000</td>\n",
       "      <td>64.290001</td>\n",
       "      <td>63.709999</td>\n",
       "      <td>64.209999</td>\n",
       "      <td>63.721226</td>\n",
       "      <td>7320700</td>\n",
       "      <td>0.61</td>\n",
       "    </tr>\n",
       "    <tr>\n",
       "      <th>248</th>\n",
       "      <td>2022-12-28</td>\n",
       "      <td>64.459999</td>\n",
       "      <td>64.650002</td>\n",
       "      <td>63.490002</td>\n",
       "      <td>63.570000</td>\n",
       "      <td>63.086098</td>\n",
       "      <td>7159400</td>\n",
       "      <td>-1.00</td>\n",
       "    </tr>\n",
       "    <tr>\n",
       "      <th>249</th>\n",
       "      <td>2022-12-29</td>\n",
       "      <td>63.799999</td>\n",
       "      <td>64.150002</td>\n",
       "      <td>63.700001</td>\n",
       "      <td>63.950001</td>\n",
       "      <td>63.463207</td>\n",
       "      <td>7169300</td>\n",
       "      <td>0.60</td>\n",
       "    </tr>\n",
       "    <tr>\n",
       "      <th>250</th>\n",
       "      <td>2022-12-30</td>\n",
       "      <td>63.919998</td>\n",
       "      <td>63.919998</td>\n",
       "      <td>63.169998</td>\n",
       "      <td>63.610001</td>\n",
       "      <td>63.125793</td>\n",
       "      <td>7650200</td>\n",
       "      <td>-0.53</td>\n",
       "    </tr>\n",
       "  </tbody>\n",
       "</table>\n",
       "<p>251 rows × 8 columns</p>\n",
       "</div>"
      ],
      "text/plain": [
       "           Date       Open       High        Low      Close  Adj Close  \\\n",
       "0    2022-01-03  58.820000  59.310001  58.380001  59.299999  57.157574   \n",
       "1    2022-01-04  59.730000  60.540001  59.590000  60.290001  58.111809   \n",
       "2    2022-01-05  60.090000  61.200001  60.049999  60.790001  58.593746   \n",
       "3    2022-01-06  60.470001  61.119999  60.439999  60.470001  58.285309   \n",
       "4    2022-01-07  60.279999  60.720001  60.060001  60.330002  58.150364   \n",
       "..          ...        ...        ...        ...        ...        ...   \n",
       "246  2022-12-23  63.500000  63.869999  63.200001  63.820000  63.334194   \n",
       "247  2022-12-27  63.930000  64.290001  63.709999  64.209999  63.721226   \n",
       "248  2022-12-28  64.459999  64.650002  63.490002  63.570000  63.086098   \n",
       "249  2022-12-29  63.799999  64.150002  63.700001  63.950001  63.463207   \n",
       "250  2022-12-30  63.919998  63.919998  63.169998  63.610001  63.125793   \n",
       "\n",
       "       Volume  Daily % Change  \n",
       "0    20187300             NaN  \n",
       "1    26141600            1.67  \n",
       "2    22507300            0.83  \n",
       "3    17902300           -0.53  \n",
       "4    12307900           -0.23  \n",
       "..        ...             ...  \n",
       "246   6463300            0.76  \n",
       "247   7320700            0.61  \n",
       "248   7159400           -1.00  \n",
       "249   7169300            0.60  \n",
       "250   7650200           -0.53  \n",
       "\n",
       "[251 rows x 8 columns]"
      ]
     },
     "execution_count": 33,
     "metadata": {},
     "output_type": "execute_result"
    }
   ],
   "source": [
    "KO"
   ]
  },
  {
   "cell_type": "code",
   "execution_count": 34,
   "id": "401ed779",
   "metadata": {},
   "outputs": [
    {
     "data": {
      "text/plain": [
       "Date              251\n",
       "Open              251\n",
       "High              251\n",
       "Low               251\n",
       "Close             251\n",
       "Adj Close         251\n",
       "Volume            251\n",
       "Daily % Change    250\n",
       "dtype: int64"
      ]
     },
     "execution_count": 34,
     "metadata": {},
     "output_type": "execute_result"
    }
   ],
   "source": [
    "KO.count()"
   ]
  },
  {
   "cell_type": "code",
   "execution_count": 35,
   "id": "d95fbd7f",
   "metadata": {},
   "outputs": [
    {
     "data": {
      "text/html": [
       "<div>\n",
       "<style scoped>\n",
       "    .dataframe tbody tr th:only-of-type {\n",
       "        vertical-align: middle;\n",
       "    }\n",
       "\n",
       "    .dataframe tbody tr th {\n",
       "        vertical-align: top;\n",
       "    }\n",
       "\n",
       "    .dataframe thead th {\n",
       "        text-align: right;\n",
       "    }\n",
       "</style>\n",
       "<table border=\"1\" class=\"dataframe\">\n",
       "  <thead>\n",
       "    <tr style=\"text-align: right;\">\n",
       "      <th></th>\n",
       "      <th>Date</th>\n",
       "      <th>Open</th>\n",
       "      <th>High</th>\n",
       "      <th>Low</th>\n",
       "      <th>Close</th>\n",
       "      <th>Adj Close</th>\n",
       "      <th>Volume</th>\n",
       "      <th>Daily % Change</th>\n",
       "    </tr>\n",
       "  </thead>\n",
       "  <tbody>\n",
       "    <tr>\n",
       "      <th>0</th>\n",
       "      <td>1/3/2022</td>\n",
       "      <td>4,778.14</td>\n",
       "      <td>4,796.64</td>\n",
       "      <td>4,758.17</td>\n",
       "      <td>4,796.56</td>\n",
       "      <td>4796.56</td>\n",
       "      <td>3,831,020,000</td>\n",
       "      <td>NaN</td>\n",
       "    </tr>\n",
       "    <tr>\n",
       "      <th>1</th>\n",
       "      <td>1/4/2022</td>\n",
       "      <td>4,804.51</td>\n",
       "      <td>4,818.62</td>\n",
       "      <td>4,774.27</td>\n",
       "      <td>4,793.54</td>\n",
       "      <td>4793.54</td>\n",
       "      <td>4,683,170,000</td>\n",
       "      <td>-0.06</td>\n",
       "    </tr>\n",
       "    <tr>\n",
       "      <th>2</th>\n",
       "      <td>1/5/2022</td>\n",
       "      <td>4,787.99</td>\n",
       "      <td>4,797.70</td>\n",
       "      <td>4,699.44</td>\n",
       "      <td>4,700.58</td>\n",
       "      <td>4700.58</td>\n",
       "      <td>4,887,960,000</td>\n",
       "      <td>-1.94</td>\n",
       "    </tr>\n",
       "    <tr>\n",
       "      <th>3</th>\n",
       "      <td>1/6/2022</td>\n",
       "      <td>4,693.39</td>\n",
       "      <td>4,725.01</td>\n",
       "      <td>4,671.26</td>\n",
       "      <td>4,696.05</td>\n",
       "      <td>4696.05</td>\n",
       "      <td>4,295,280,000</td>\n",
       "      <td>-0.10</td>\n",
       "    </tr>\n",
       "    <tr>\n",
       "      <th>4</th>\n",
       "      <td>1/7/2022</td>\n",
       "      <td>4,697.66</td>\n",
       "      <td>4,707.95</td>\n",
       "      <td>4,662.74</td>\n",
       "      <td>4,677.03</td>\n",
       "      <td>4677.03</td>\n",
       "      <td>4,181,510,000</td>\n",
       "      <td>-0.41</td>\n",
       "    </tr>\n",
       "    <tr>\n",
       "      <th>...</th>\n",
       "      <td>...</td>\n",
       "      <td>...</td>\n",
       "      <td>...</td>\n",
       "      <td>...</td>\n",
       "      <td>...</td>\n",
       "      <td>...</td>\n",
       "      <td>...</td>\n",
       "      <td>...</td>\n",
       "    </tr>\n",
       "    <tr>\n",
       "      <th>246</th>\n",
       "      <td>12/23/2022</td>\n",
       "      <td>3,815.11</td>\n",
       "      <td>3,845.80</td>\n",
       "      <td>3,797.01</td>\n",
       "      <td>3,844.82</td>\n",
       "      <td>3844.82</td>\n",
       "      <td>2,819,280,000</td>\n",
       "      <td>0.59</td>\n",
       "    </tr>\n",
       "    <tr>\n",
       "      <th>247</th>\n",
       "      <td>12/27/2022</td>\n",
       "      <td>3,843.34</td>\n",
       "      <td>3,846.65</td>\n",
       "      <td>3,813.22</td>\n",
       "      <td>3,829.25</td>\n",
       "      <td>3829.25</td>\n",
       "      <td>3,030,300,000</td>\n",
       "      <td>-0.40</td>\n",
       "    </tr>\n",
       "    <tr>\n",
       "      <th>248</th>\n",
       "      <td>12/28/2022</td>\n",
       "      <td>3,829.56</td>\n",
       "      <td>3,848.32</td>\n",
       "      <td>3,780.78</td>\n",
       "      <td>3,783.22</td>\n",
       "      <td>3783.22</td>\n",
       "      <td>3,083,520,000</td>\n",
       "      <td>-1.20</td>\n",
       "    </tr>\n",
       "    <tr>\n",
       "      <th>249</th>\n",
       "      <td>12/29/2022</td>\n",
       "      <td>3,805.45</td>\n",
       "      <td>3,858.19</td>\n",
       "      <td>3,805.45</td>\n",
       "      <td>3,849.28</td>\n",
       "      <td>3849.28</td>\n",
       "      <td>3,003,680,000</td>\n",
       "      <td>1.75</td>\n",
       "    </tr>\n",
       "    <tr>\n",
       "      <th>250</th>\n",
       "      <td>12/30/2022</td>\n",
       "      <td>3,829.06</td>\n",
       "      <td>3,839.85</td>\n",
       "      <td>3,800.34</td>\n",
       "      <td>3,839.50</td>\n",
       "      <td>3839.50</td>\n",
       "      <td>2,979,870,000</td>\n",
       "      <td>-0.25</td>\n",
       "    </tr>\n",
       "  </tbody>\n",
       "</table>\n",
       "<p>251 rows × 8 columns</p>\n",
       "</div>"
      ],
      "text/plain": [
       "           Date      Open      High       Low     Close  Adj Close  \\\n",
       "0      1/3/2022  4,778.14  4,796.64  4,758.17  4,796.56    4796.56   \n",
       "1      1/4/2022  4,804.51  4,818.62  4,774.27  4,793.54    4793.54   \n",
       "2      1/5/2022  4,787.99  4,797.70  4,699.44  4,700.58    4700.58   \n",
       "3      1/6/2022  4,693.39  4,725.01  4,671.26  4,696.05    4696.05   \n",
       "4      1/7/2022  4,697.66  4,707.95  4,662.74  4,677.03    4677.03   \n",
       "..          ...       ...       ...       ...       ...        ...   \n",
       "246  12/23/2022  3,815.11  3,845.80  3,797.01  3,844.82    3844.82   \n",
       "247  12/27/2022  3,843.34  3,846.65  3,813.22  3,829.25    3829.25   \n",
       "248  12/28/2022  3,829.56  3,848.32  3,780.78  3,783.22    3783.22   \n",
       "249  12/29/2022  3,805.45  3,858.19  3,805.45  3,849.28    3849.28   \n",
       "250  12/30/2022  3,829.06  3,839.85  3,800.34  3,839.50    3839.50   \n",
       "\n",
       "            Volume  Daily % Change  \n",
       "0    3,831,020,000             NaN  \n",
       "1    4,683,170,000           -0.06  \n",
       "2    4,887,960,000           -1.94  \n",
       "3    4,295,280,000           -0.10  \n",
       "4    4,181,510,000           -0.41  \n",
       "..             ...             ...  \n",
       "246  2,819,280,000            0.59  \n",
       "247  3,030,300,000           -0.40  \n",
       "248  3,083,520,000           -1.20  \n",
       "249  3,003,680,000            1.75  \n",
       "250  2,979,870,000           -0.25  \n",
       "\n",
       "[251 rows x 8 columns]"
      ]
     },
     "execution_count": 35,
     "metadata": {},
     "output_type": "execute_result"
    }
   ],
   "source": [
    "sp500"
   ]
  },
  {
   "cell_type": "code",
   "execution_count": 36,
   "id": "3cae777c",
   "metadata": {},
   "outputs": [
    {
     "data": {
      "text/plain": [
       "Date              251\n",
       "Open              251\n",
       "High              251\n",
       "Low               251\n",
       "Close             251\n",
       "Adj Close         251\n",
       "Volume            251\n",
       "Daily % Change    250\n",
       "dtype: int64"
      ]
     },
     "execution_count": 36,
     "metadata": {},
     "output_type": "execute_result"
    }
   ],
   "source": [
    "sp500.count()"
   ]
  },
  {
   "cell_type": "markdown",
   "id": "c9aac81f",
   "metadata": {},
   "source": [
    "### Here we are defining a function that we can call repeadetly to display each of the 5 assets"
   ]
  },
  {
   "cell_type": "code",
   "execution_count": 37,
   "id": "91fb9915",
   "metadata": {},
   "outputs": [
    {
     "data": {
      "image/png": "[encoded data removed]",
      "text/plain": [
       "<Figure size 1000x500 with 1 Axes>"
      ]
     },
     "metadata": {},
     "output_type": "display_data"
    }
   ],
   "source": [
    "def percentageGraph(stock, nameOfstock):\n",
    "    plt.figure(figsize=(10, 5))\n",
    "    ax = plt.gca()\n",
    "    ax.bar(stock['Date'], stock['Daily % Change'], color='green')\n",
    "    plt.xlabel('Date')\n",
    "    plt.ylabel('Daily % Change')\n",
    "    plt.title(f'Daily % Change for {nameOfstock} in 2022')\n",
    "\n",
    "    #tick code provided in blackboard\n",
    "    total_ticks = 12\n",
    "    interval = len(stock) // total_ticks\n",
    "    ticks_to_use = np.arange(0, len(stock), interval)\n",
    "    labels = [stock['Date'].iloc[i] for i in ticks_to_use]\n",
    "    ax.set_xticks(ticks_to_use)\n",
    "    ax.set_xticklabels(labels, rotation = 45)\n",
    "\n",
    "    plt.tight_layout()\n",
    "    plt.show()\n",
    "\n",
    "\n",
    "percentageGraph(nvidia, 'nvidia')\n"
   ]
  },
  {
   "cell_type": "code",
   "execution_count": 38,
   "id": "b16f91b8",
   "metadata": {},
   "outputs": [
    {
     "data": {
      "image/png": "[encoded data removed]",
      "text/plain": [
       "<Figure size 1000x500 with 1 Axes>"
      ]
     },
     "metadata": {},
     "output_type": "display_data"
    }
   ],
   "source": [
    "percentageGraph(tesla, 'tesla')"
   ]
  },
  {
   "cell_type": "code",
   "execution_count": 39,
   "id": "b4b01dda",
   "metadata": {},
   "outputs": [
    {
     "data": {
      "image/png": "[encoded data removed]",
      "text/plain": [
       "<Figure size 1000x500 with 1 Axes>"
      ]
     },
     "metadata": {},
     "output_type": "display_data"
    }
   ],
   "source": [
    "percentageGraph(jpmorgan, 'jpmorgan')"
   ]
  },
  {
   "cell_type": "code",
   "execution_count": 40,
   "id": "4ce39d5b",
   "metadata": {},
   "outputs": [
    {
     "data": {
      "image/png": "[encoded data removed]",
      "text/plain": [
       "<Figure size 1000x500 with 1 Axes>"
      ]
     },
     "metadata": {},
     "output_type": "display_data"
    }
   ],
   "source": [
    "percentageGraph(MMM, '3M')"
   ]
  },
  {
   "cell_type": "code",
   "execution_count": 41,
   "id": "a7d404a6",
   "metadata": {},
   "outputs": [
    {
     "data": {
      "image/png": "[encoded data removed]",
      "text/plain": [
       "<Figure size 1000x500 with 1 Axes>"
      ]
     },
     "metadata": {},
     "output_type": "display_data"
    }
   ],
   "source": [
    "percentageGraph(KO, 'KO')"
   ]
  },
  {
   "cell_type": "markdown",
   "id": "6478384a",
   "metadata": {},
   "source": [
    "## Calculating and displaying mean, std, variance, min and max"
   ]
  },
  {
   "cell_type": "markdown",
   "id": "5e6cf661",
   "metadata": {},
   "source": [
    "### Nvidia"
   ]
  },
  {
   "cell_type": "code",
   "execution_count": 42,
   "id": "3010935e",
   "metadata": {},
   "outputs": [
    {
     "data": {
      "text/plain": [
       "185.54521969322707"
      ]
     },
     "execution_count": 42,
     "metadata": {},
     "output_type": "execute_result"
    }
   ],
   "source": [
    "nvidia['Adj Close'].mean()"
   ]
  },
  {
   "cell_type": "code",
   "execution_count": 43,
   "id": "20cf0915",
   "metadata": {},
   "outputs": [
    {
     "data": {
      "text/plain": [
       "112.222221"
      ]
     },
     "execution_count": 43,
     "metadata": {},
     "output_type": "execute_result"
    }
   ],
   "source": [
    "nvidia['Adj Close'].min()"
   ]
  },
  {
   "cell_type": "code",
   "execution_count": 44,
   "id": "6c69b9f8",
   "metadata": {},
   "outputs": [
    {
     "data": {
      "text/plain": [
       "300.877502"
      ]
     },
     "execution_count": 44,
     "metadata": {},
     "output_type": "execute_result"
    }
   ],
   "source": [
    "nvidia['Adj Close'].max()"
   ]
  },
  {
   "cell_type": "code",
   "execution_count": 45,
   "id": "5c8c63ab",
   "metadata": {},
   "outputs": [
    {
     "data": {
      "text/plain": [
       "46.3341183390422"
      ]
     },
     "execution_count": 45,
     "metadata": {},
     "output_type": "execute_result"
    }
   ],
   "source": [
    "nvidia['Adj Close'].std()"
   ]
  },
  {
   "cell_type": "code",
   "execution_count": 46,
   "id": "81d60b0b",
   "metadata": {},
   "outputs": [
    {
     "data": {
      "text/plain": [
       "2146.8505222563667"
      ]
     },
     "execution_count": 46,
     "metadata": {},
     "output_type": "execute_result"
    }
   ],
   "source": [
    "nvidia['Adj Close'].var()"
   ]
  },
  {
   "cell_type": "markdown",
   "id": "6c1569ca",
   "metadata": {},
   "source": [
    "### Tesla"
   ]
  },
  {
   "cell_type": "code",
   "execution_count": 47,
   "id": "960091e8",
   "metadata": {},
   "outputs": [
    {
     "data": {
      "text/plain": [
       "263.09308095219126"
      ]
     },
     "execution_count": 47,
     "metadata": {},
     "output_type": "execute_result"
    }
   ],
   "source": [
    "tesla['Adj Close'].mean()"
   ]
  },
  {
   "cell_type": "code",
   "execution_count": 48,
   "id": "c470b68b",
   "metadata": {},
   "outputs": [
    {
     "data": {
      "text/plain": [
       "109.099998"
      ]
     },
     "execution_count": 48,
     "metadata": {},
     "output_type": "execute_result"
    }
   ],
   "source": [
    "tesla['Adj Close'].min()"
   ]
  },
  {
   "cell_type": "code",
   "execution_count": 49,
   "id": "244a1e2a",
   "metadata": {},
   "outputs": [
    {
     "data": {
      "text/plain": [
       "399.926666"
      ]
     },
     "execution_count": 49,
     "metadata": {},
     "output_type": "execute_result"
    }
   ],
   "source": [
    "tesla['Adj Close'].max()"
   ]
  },
  {
   "cell_type": "code",
   "execution_count": 50,
   "id": "efad003e",
   "metadata": {},
   "outputs": [
    {
     "data": {
      "text/plain": [
       "57.81435645551648"
      ]
     },
     "execution_count": 50,
     "metadata": {},
     "output_type": "execute_result"
    }
   ],
   "source": [
    "tesla['Adj Close'].std()"
   ]
  },
  {
   "cell_type": "code",
   "execution_count": 51,
   "id": "52e192b3",
   "metadata": {},
   "outputs": [
    {
     "data": {
      "text/plain": [
       "3342.4998123655205"
      ]
     },
     "execution_count": 51,
     "metadata": {},
     "output_type": "execute_result"
    }
   ],
   "source": [
    "tesla['Adj Close'].var()"
   ]
  },
  {
   "cell_type": "markdown",
   "id": "498450aa",
   "metadata": {},
   "source": [
    "### JPMorgan"
   ]
  },
  {
   "cell_type": "code",
   "execution_count": 52,
   "id": "fcd1b1c1",
   "metadata": {},
   "outputs": [
    {
     "data": {
      "text/plain": [
       "124.49744799203188"
      ]
     },
     "execution_count": 52,
     "metadata": {},
     "output_type": "execute_result"
    }
   ],
   "source": [
    "jpmorgan['Adj Close'].mean()"
   ]
  },
  {
   "cell_type": "code",
   "execution_count": 53,
   "id": "41b68378",
   "metadata": {},
   "outputs": [
    {
     "data": {
      "text/plain": [
       "100.424248"
      ]
     },
     "execution_count": 53,
     "metadata": {},
     "output_type": "execute_result"
    }
   ],
   "source": [
    "jpmorgan['Adj Close'].min()"
   ]
  },
  {
   "cell_type": "code",
   "execution_count": 54,
   "id": "86b5cb96",
   "metadata": {},
   "outputs": [
    {
     "data": {
      "text/plain": [
       "161.790741"
      ]
     },
     "execution_count": 54,
     "metadata": {},
     "output_type": "execute_result"
    }
   ],
   "source": [
    "jpmorgan['Adj Close'].max()"
   ]
  },
  {
   "cell_type": "code",
   "execution_count": 55,
   "id": "bba8ca5f",
   "metadata": {},
   "outputs": [
    {
     "data": {
      "text/plain": [
       "13.499686606831995"
      ]
     },
     "execution_count": 55,
     "metadata": {},
     "output_type": "execute_result"
    }
   ],
   "source": [
    "jpmorgan['Adj Close'].std()"
   ]
  },
  {
   "cell_type": "code",
   "execution_count": 56,
   "id": "376d2b7e",
   "metadata": {},
   "outputs": [
    {
     "data": {
      "text/plain": [
       "182.24153848267915"
      ]
     },
     "execution_count": 56,
     "metadata": {},
     "output_type": "execute_result"
    }
   ],
   "source": [
    "jpmorgan['Adj Close'].var()"
   ]
  },
  {
   "cell_type": "markdown",
   "id": "92452919",
   "metadata": {},
   "source": [
    "### 3M"
   ]
  },
  {
   "cell_type": "code",
   "execution_count": 57,
   "id": "bfa3d46a",
   "metadata": {},
   "outputs": [
    {
     "data": {
      "text/plain": [
       "134.1212679880478"
      ]
     },
     "execution_count": 57,
     "metadata": {},
     "output_type": "execute_result"
    }
   ],
   "source": [
    "MMM['Adj Close'].mean()"
   ]
  },
  {
   "cell_type": "code",
   "execution_count": 58,
   "id": "54169c0c",
   "metadata": {},
   "outputs": [
    {
     "data": {
      "text/plain": [
       "104.886848"
      ]
     },
     "execution_count": 58,
     "metadata": {},
     "output_type": "execute_result"
    }
   ],
   "source": [
    "MMM['Adj Close'].min()"
   ]
  },
  {
   "cell_type": "code",
   "execution_count": 59,
   "id": "7d291b21",
   "metadata": {},
   "outputs": [
    {
     "data": {
      "text/plain": [
       "171.387589"
      ]
     },
     "execution_count": 59,
     "metadata": {},
     "output_type": "execute_result"
    }
   ],
   "source": [
    "MMM['Adj Close'].max()"
   ]
  },
  {
   "cell_type": "code",
   "execution_count": 60,
   "id": "c24e0f84",
   "metadata": {},
   "outputs": [
    {
     "data": {
      "text/plain": [
       "15.202848313114742"
      ]
     },
     "execution_count": 60,
     "metadata": {},
     "output_type": "execute_result"
    }
   ],
   "source": [
    "MMM['Adj Close'].std()"
   ]
  },
  {
   "cell_type": "code",
   "execution_count": 61,
   "id": "dda9e3a3",
   "metadata": {},
   "outputs": [
    {
     "data": {
      "text/plain": [
       "231.12659683157577"
      ]
     },
     "execution_count": 61,
     "metadata": {},
     "output_type": "execute_result"
    }
   ],
   "source": [
    "MMM['Adj Close'].var()"
   ]
  },
  {
   "cell_type": "markdown",
   "id": "2c1ad296",
   "metadata": {},
   "source": [
    "### Coca-Cola"
   ]
  },
  {
   "cell_type": "code",
   "execution_count": 62,
   "id": "8243b47b",
   "metadata": {},
   "outputs": [
    {
     "data": {
      "text/plain": [
       "60.22561187649403"
      ]
     },
     "execution_count": 62,
     "metadata": {},
     "output_type": "execute_result"
    }
   ],
   "source": [
    "KO['Adj Close'].mean()"
   ]
  },
  {
   "cell_type": "code",
   "execution_count": 63,
   "id": "6bf40f88",
   "metadata": {},
   "outputs": [
    {
     "data": {
      "text/plain": [
       "53.595863"
      ]
     },
     "execution_count": 63,
     "metadata": {},
     "output_type": "execute_result"
    }
   ],
   "source": [
    "KO['Adj Close'].min()"
   ]
  },
  {
   "cell_type": "code",
   "execution_count": 64,
   "id": "881a98c6",
   "metadata": {},
   "outputs": [
    {
     "data": {
      "text/plain": [
       "64.306442"
      ]
     },
     "execution_count": 64,
     "metadata": {},
     "output_type": "execute_result"
    }
   ],
   "source": [
    "KO['Adj Close'].max()"
   ]
  },
  {
   "cell_type": "code",
   "execution_count": 65,
   "id": "3777cb4c",
   "metadata": {},
   "outputs": [
    {
     "data": {
      "text/plain": [
       "2.4565399646488006"
      ]
     },
     "execution_count": 65,
     "metadata": {},
     "output_type": "execute_result"
    }
   ],
   "source": [
    "KO['Adj Close'].std()"
   ]
  },
  {
   "cell_type": "code",
   "execution_count": 66,
   "id": "c98dd047",
   "metadata": {},
   "outputs": [
    {
     "data": {
      "text/plain": [
       "6.0345885979167315"
      ]
     },
     "execution_count": 66,
     "metadata": {},
     "output_type": "execute_result"
    }
   ],
   "source": [
    "KO['Adj Close'].var()"
   ]
  },
  {
   "cell_type": "markdown",
   "id": "2ab8274f",
   "metadata": {},
   "source": [
    "# Part 3 - Regression Analysis"
   ]
  },
  {
   "cell_type": "code",
   "execution_count": null,
   "id": "952ba283",
   "metadata": {},
   "outputs": [],
   "source": []
  }
 ],
 "metadata": {
  "kernelspec": {
   "display_name": "Python 3 (ipykernel)",
   "language": "python",
   "name": "python3"
  },
  "language_info": {
   "codemirror_mode": {
    "name": "ipython",
    "version": 3
   },
   "file_extension": ".py",
   "mimetype": "text/x-python",
   "name": "python",
   "nbconvert_exporter": "python",
   "pygments_lexer": "ipython3",
   "version": "3.9.13"
  }
 },
 "nbformat": 4,
 "nbformat_minor": 5
}
